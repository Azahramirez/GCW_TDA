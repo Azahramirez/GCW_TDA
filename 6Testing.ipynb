{
 "cells": [
  {
   "cell_type": "markdown",
   "id": "76a2b233",
   "metadata": {},
   "source": [
    "# Notebook for making test runs"
   ]
  },
  {
   "cell_type": "markdown",
   "id": "02ff10e8",
   "metadata": {},
   "source": [
    "Libraries\n"
   ]
  },
  {
   "cell_type": "code",
   "execution_count": 1,
   "id": "9f098ae3",
   "metadata": {},
   "outputs": [],
   "source": [
    "import numpy as np\n",
    "import pandas as pd\n",
    "import matplotlib.pyplot as plt\n",
    "from scipy.fft import fft, fftfreq\n",
    "from sklearn.model_selection import train_test_split, cross_val_score\n",
    "from sklearn.ensemble import RandomForestClassifier\n",
    "from sklearn.metrics import accuracy_score\n",
    "from sklearn.linear_model import LogisticRegression\n",
    "from sklearn.preprocessing import StandardScaler\n",
    "from sklearn.decomposition import PCA\n",
    "from sklearn.model_selection import cross_val_score\n",
    "from sklearn.svm import SVC\n",
    "from xgboost import XGBClassifier\n",
    "from keras.models import Sequential\n",
    "from keras.layers import Conv2D, MaxPooling2D, Flatten, Dense, Dropout, BatchNormalization\n",
    "from keras.optimizers import Adam\n",
    "from keras.utils import to_categorical\n",
    "from sklearn.neighbors import KNeighborsClassifier\n",
    "from tensorflow.keras.layers import Conv1D, MaxPooling1D, Flatten, Dense\n",
    "from keras.regularizers import l2\n",
    "from keras.callbacks import EarlyStopping\n",
    "\n",
    "# Librerias GTDA\n",
    "from gtda.time_series import SingleTakensEmbedding, takens_embedding_optimal_parameters\n",
    "from gtda.homology import VietorisRipsPersistence\n",
    "from gtda.plotting import plot_point_cloud\n",
    "import plotly.graph_objects as go\n",
    "#from nolitsa import dimension, delay (nolitsa==0.1)\n",
    "\n",
    "import math\n",
    "import gudhi\n",
    "import ripser\n",
    "from persim import plot_diagrams, PersistenceImager"
   ]
  },
  {
   "cell_type": "code",
   "execution_count": 2,
   "id": "9d3f5cbb",
   "metadata": {},
   "outputs": [],
   "source": [
    "def compute_frequency_domain(signals, start_idx, end_idx, sampling_rate=1.0):\n",
    "    frequency_domain_data = []\n",
    "    for i in range(start_idx, end_idx):\n",
    "        # Compute the FFT of the signal\n",
    "        signal_fft = fft(signals[i])\n",
    "        # Compute the corresponding frequencies\n",
    "        frequencies = fftfreq(len(signal_fft), d=1/sampling_rate)\n",
    "        # Filter frequencies and magnitudes in the range -0.05 to 0.05\n",
    "        filtered_indices = np.where((frequencies >= -0.05) & (frequencies <= 0.05))\n",
    "        filtered_frequencies = frequencies[filtered_indices].tolist()\n",
    "        filtered_magnitudes = np.abs(signal_fft)[filtered_indices].tolist()\n",
    "        # Store filtered frequencies and magnitudes\n",
    "        frequency_domain_data.append({\n",
    "            'Signal': i+1, \n",
    "            'Frequencies': filtered_frequencies, \n",
    "            'Magnitudes': filtered_magnitudes\n",
    "        })\n",
    "    return frequency_domain_data\n",
    "\n",
    "def procesamiento_pca(datos_np, hacerPCA: bool=True):\n",
    "    frequency_domain_results = compute_frequency_domain(datos_np, start_idx=0, end_idx=len(datos_np), sampling_rate=1.0)\n",
    "\n",
    "    # Convert the results into a DataFrame\n",
    "    frequency_domain_df = pd.DataFrame(frequency_domain_results)\n",
    "\n",
    "    # Extracting magnitudes of Fourier series data\n",
    "    magnitudes = frequency_domain_df['Magnitudes'].values\n",
    "\n",
    "    # Reshaping magnitudes to match the expected input shape for t-SNE\n",
    "    reshaped_magnitudes = np.vstack(magnitudes)\n",
    "\n",
    "    # Normalize the data\n",
    "    scaler = StandardScaler()\n",
    "    normalized_magnitudes = scaler.fit_transform(reshaped_magnitudes)\n",
    "\n",
    "    #En caso de poner false\n",
    "    pca_result = normalized_magnitudes\n",
    "\n",
    "    # Optionally apply PCA before t-SNE\n",
    "    if hacerPCA:\n",
    "        pca = PCA(n_components=50)\n",
    "        pca_result = pca.fit_transform(normalized_magnitudes)\n",
    "    \n",
    "\n",
    "    return pca_result"
   ]
  },
  {
   "cell_type": "markdown",
   "id": "fe7d5acb",
   "metadata": {},
   "source": [
    "# Load the models"
   ]
  },
  {
   "cell_type": "code",
   "execution_count": 24,
   "id": "556bb24a",
   "metadata": {},
   "outputs": [],
   "source": [
    "# load the models\n",
    "import joblib\n",
    "import pickle\n",
    "\n",
    "# Load random forest model\n",
    "rf_model = joblib.load('models/random_forest_model.pkl')\n",
    "# Load XGBoost model\n",
    "xgb_model = joblib.load('models/xgb_model.pkl')\n",
    "# Load neural network model\n",
    "from keras.models import load_model\n",
    "nn_model = load_model('models/neural_network_model.keras')\n",
    "# Load CNN model\n",
    "cnn_model = load_model('models/cnn_model.keras')\n",
    "# Load the svm model\n",
    "svm_model = joblib.load('models/svm_model.pkl')\n",
    "# tda model\n",
    "tda_model = load_model('data/cnn1_model_0.4.keras')\n"
   ]
  },
  {
   "cell_type": "markdown",
   "id": "2e65c4fd",
   "metadata": {},
   "source": [
    "# Load the data"
   ]
  },
  {
   "cell_type": "code",
   "execution_count": 21,
   "id": "f4355bd5",
   "metadata": {},
   "outputs": [
    {
     "name": "stdout",
     "output_type": "stream",
     "text": [
      "[1. 1. 1. ... 0. 0. 0.]\n",
      "(1500,)\n",
      "Accuracy: 0.5086666666666667\n",
      "[1. 1. 1. ... 0. 0. 0.]\n",
      "(1500,)\n",
      "Accuracy: 0.5033333333333333\n",
      "[1. 1. 1. ... 0. 0. 0.]\n",
      "(1500,)\n",
      "Accuracy: 0.49333333333333335\n"
     ]
    }
   ],
   "source": [
    "signal_name= 'noisy_signals'\n",
    "labels_name ='labels'\n",
    "#list_of_R=[0.6, 0.5, 0.4, 0.2, 0.15, 0.065]\n",
    "list_of_R = ['rand100', 'rand250', 'rand500']\n",
    "\n",
    "for i in list_of_R:\n",
    "    # Load the data\n",
    "    datos_np = np.load(f'data/{signal_name}_{i}.npy')\n",
    "    labels = np.load(f'data/{labels_name}_{i}.npy')\n",
    "\n",
    "    # Process the data using PCA\n",
    "    X_test = procesamiento_pca(datos_np)\n",
    "    y_test = labels\n",
    "\n",
    "    y_pred_ruido = rf_model.predict(X_test)\n",
    "    print(y_pred_ruido)\n",
    "    print(y_test.shape)\n",
    "\n",
    "    # Calculate accuracy\n",
    "    accuracy_ruido = accuracy_score(y_test, y_pred_ruido)\n",
    "    print(\"Accuracy:\", accuracy_ruido)\n"
   ]
  },
  {
   "cell_type": "code",
   "execution_count": 22,
   "id": "2473d34b",
   "metadata": {},
   "outputs": [
    {
     "name": "stdout",
     "output_type": "stream",
     "text": [
      "[1. 1. 1. ... 0. 0. 0.]\n",
      "(1500,)\n",
      "Accuracy: 0.51\n",
      "[1. 1. 1. ... 0. 0. 0.]\n",
      "(1500,)\n",
      "Accuracy: 0.5046666666666667\n",
      "[1. 1. 1. ... 0. 0. 0.]\n",
      "(1500,)\n",
      "Accuracy: 0.49933333333333335\n"
     ]
    }
   ],
   "source": [
    "signal_name= 'noisy_signals'\n",
    "labels_name ='labels'\n",
    "#list_of_R=[0.6, 0.5, 0.4, 0.2, 0.15, 0.065]\n",
    "list_of_R = ['rand100', 'rand250', 'rand500']\n",
    "\n",
    "for i in list_of_R:\n",
    "    # Load the data\n",
    "    datos_np = np.load(f'data/{signal_name}_{i}.npy')\n",
    "    labels = np.load(f'data/{labels_name}_{i}.npy')\n",
    "\n",
    "    # Process the data using PCA\n",
    "    X_test = procesamiento_pca(datos_np)\n",
    "    y_test = labels\n",
    "\n",
    "    y_pred_ruido = svm_model.predict(X_test)\n",
    "    print(y_pred_ruido)\n",
    "    print(y_test.shape)\n",
    "\n",
    "    # Calculate accuracy\n",
    "    accuracy_ruido = accuracy_score(y_test, y_pred_ruido)\n",
    "    print(\"Accuracy:\", accuracy_ruido)"
   ]
  },
  {
   "cell_type": "code",
   "execution_count": 23,
   "id": "5819d3ca",
   "metadata": {},
   "outputs": [
    {
     "name": "stdout",
     "output_type": "stream",
     "text": [
      "[1 1 1 ... 0 0 0]\n",
      "(1500,)\n",
      "Accuracy: 0.5186666666666667\n",
      "[1 1 1 ... 0 0 0]\n",
      "(1500,)\n",
      "Accuracy: 0.5086666666666667\n",
      "[1 1 1 ... 0 0 0]\n",
      "(1500,)\n",
      "Accuracy: 0.496\n"
     ]
    }
   ],
   "source": [
    "signal_name= 'noisy_signals'\n",
    "labels_name ='labels'\n",
    "#list_of_R=[0.6, 0.5, 0.4, 0.2, 0.15, 0.065]\n",
    "list_of_R = ['rand100', 'rand250', 'rand500']\n",
    "\n",
    "for i in list_of_R:\n",
    "    # Load the data\n",
    "    datos_np = np.load(f'data/{signal_name}_{i}.npy')\n",
    "    labels = np.load(f'data/{labels_name}_{i}.npy')\n",
    "\n",
    "    # Process the data using PCA\n",
    "    X_test = procesamiento_pca(datos_np)\n",
    "    y_test = labels\n",
    "\n",
    "    y_pred_ruido = xgb_model.predict(X_test)\n",
    "    print(y_pred_ruido)\n",
    "    print(y_test.shape)\n",
    "\n",
    "    # Calculate accuracy\n",
    "    accuracy_ruido = accuracy_score(y_test, y_pred_ruido)\n",
    "    print(\"Accuracy:\", accuracy_ruido)"
   ]
  },
  {
   "cell_type": "code",
   "execution_count": 26,
   "id": "b8ee6ccb",
   "metadata": {},
   "outputs": [
    {
     "name": "stdout",
     "output_type": "stream",
     "text": [
      "\u001b[1m47/47\u001b[0m \u001b[32m━━━━━━━━━━━━━━━━━━━━\u001b[0m\u001b[37m\u001b[0m \u001b[1m12s\u001b[0m 238ms/step - accuracy: 0.5360 - loss: 0.7462\n",
      "Validation Loss: 0.7446233630180359, Validation Accuracy: 0.5379999876022339\n",
      "\u001b[1m47/47\u001b[0m \u001b[32m━━━━━━━━━━━━━━━━━━━━\u001b[0m\u001b[37m\u001b[0m \u001b[1m10s\u001b[0m 222ms/step - accuracy: 0.5155 - loss: 0.7487\n",
      "Validation Loss: 0.751818060874939, Validation Accuracy: 0.5040000081062317\n",
      "\u001b[1m47/47\u001b[0m \u001b[32m━━━━━━━━━━━━━━━━━━━━\u001b[0m\u001b[37m\u001b[0m \u001b[1m10s\u001b[0m 217ms/step - accuracy: 0.5423 - loss: 0.7476\n",
      "Validation Loss: 0.7469534277915955, Validation Accuracy: 0.5286666750907898\n"
     ]
    }
   ],
   "source": [
    "signal_name= 'imagenes'\n",
    "labels_name ='labels'\n",
    "#list_of_R=[0.6, 0.5, 0.4, 0.2, 0.15, 0.065]\n",
    "list_of_R = ['rand100', 'rand250', 'rand500']\n",
    "\n",
    "for i in list_of_R:\n",
    "    # Load the data\n",
    "    #load list imagenes as numpy array\n",
    "    imagenes=np.load(f'data/{signal_name}_{i}.npy', allow_pickle=True)\n",
    "    labels = np.load(f'data/{labels_name}_{i}.npy')\n",
    "\n",
    "    lol=[]\n",
    "    for i in range(len(imagenes)):\n",
    "        lol.append(imagenes[i].flatten())\n",
    "    imagenes=np.array(lol)\n",
    "    imagenes.shape\n",
    "\n",
    "    X = imagenes\n",
    "\n",
    "    y=labels\n",
    "\n",
    "    # Reshape the data to add a channel dimension\n",
    "    X = X.reshape(-1, imagenes.shape[1], 1)\n",
    "\n",
    "    # Evaluate the model\n",
    "    val_loss, val_accuracy = tda_model.evaluate(X, y)\n",
    "    print(f'Validation Loss: {val_loss}, Validation Accuracy: {val_accuracy}')"
   ]
  }
 ],
 "metadata": {
  "kernelspec": {
   "display_name": "gcwtda",
   "language": "python",
   "name": "python3"
  },
  "language_info": {
   "codemirror_mode": {
    "name": "ipython",
    "version": 3
   },
   "file_extension": ".py",
   "mimetype": "text/x-python",
   "name": "python",
   "nbconvert_exporter": "python",
   "pygments_lexer": "ipython3",
   "version": "3.10.18"
  }
 },
 "nbformat": 4,
 "nbformat_minor": 5
}
