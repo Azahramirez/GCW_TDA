{
 "cells": [
  {
   "cell_type": "markdown",
   "metadata": {},
   "source": [
    "# This notebook includes the results of several ML models applied to the problem using the data from PCA of Fourier Series\n",
    "\n",
    "Using 50 PCA components of the magnitudes of the Fourier Series of a wave signal, we will try to create a model to predict whether the signal is a gravitational wave or just noise. \n"
   ]
  },
  {
   "cell_type": "code",
   "execution_count": 1,
   "metadata": {},
   "outputs": [],
   "source": [
    "\n",
    "\n",
    "import numpy as np\n",
    "import pandas as pd\n",
    "import matplotlib.pyplot as plt\n",
    "from scipy.fft import fft, fftfreq\n",
    "from sklearn.model_selection import train_test_split, cross_val_score\n",
    "from sklearn.ensemble import RandomForestClassifier\n",
    "from sklearn.metrics import accuracy_score\n",
    "from sklearn.linear_model import LogisticRegression\n",
    "from sklearn.preprocessing import StandardScaler\n",
    "from sklearn.decomposition import PCA\n",
    "from sklearn.model_selection import cross_val_score\n",
    "from sklearn.svm import SVC\n",
    "from xgboost import XGBClassifier\n",
    "from keras.models import Sequential\n",
    "from keras.layers import Conv2D, MaxPooling2D, Flatten, Dense, Dropout, BatchNormalization\n",
    "from keras.optimizers import Adam\n",
    "from keras.utils import to_categorical\n",
    "from sklearn.neighbors import KNeighborsClassifier\n",
    "from tensorflow.keras.layers import Conv1D, MaxPooling1D, Flatten, Dense\n",
    "from keras.regularizers import l2\n",
    "from keras.callbacks import EarlyStopping\n",
    "\n",
    "# Librerias GTDA\n",
    "from gtda.time_series import SingleTakensEmbedding, takens_embedding_optimal_parameters\n",
    "from gtda.homology import VietorisRipsPersistence\n",
    "from gtda.plotting import plot_point_cloud\n",
    "import plotly.graph_objects as go\n",
    "#from nolitsa import dimension, delay (nolitsa==0.1)\n",
    "\n",
    "import math\n",
    "import gudhi\n",
    "import ripser\n",
    "from persim import plot_diagrams, PersistenceImager\n",
    "\n"
   ]
  },
  {
   "cell_type": "code",
   "execution_count": 2,
   "metadata": {},
   "outputs": [],
   "source": [
    "plt.rcParams.update(plt.rcParamsDefault) #Run this if the plots are not showing correctly"
   ]
  },
  {
   "cell_type": "markdown",
   "metadata": {},
   "source": [
    "# Model with pca of Fourier series"
   ]
  },
  {
   "cell_type": "markdown",
   "metadata": {},
   "source": [
    "### Original data (not used)"
   ]
  },
  {
   "cell_type": "code",
   "execution_count": 3,
   "metadata": {},
   "outputs": [
    {
     "data": {
      "text/html": [
       "<div>\n",
       "<style scoped>\n",
       "    .dataframe tbody tr th:only-of-type {\n",
       "        vertical-align: middle;\n",
       "    }\n",
       "\n",
       "    .dataframe tbody tr th {\n",
       "        vertical-align: top;\n",
       "    }\n",
       "\n",
       "    .dataframe thead th {\n",
       "        text-align: right;\n",
       "    }\n",
       "</style>\n",
       "<table border=\"1\" class=\"dataframe\">\n",
       "  <thead>\n",
       "    <tr style=\"text-align: right;\">\n",
       "      <th></th>\n",
       "      <th>Signal</th>\n",
       "      <th>Frequency</th>\n",
       "      <th>Magnitude</th>\n",
       "      <th>label</th>\n",
       "    </tr>\n",
       "  </thead>\n",
       "  <tbody>\n",
       "    <tr>\n",
       "      <th>0</th>\n",
       "      <td>1</td>\n",
       "      <td>[0.0, 0.0001150483202945237, 0.000230096640589...</td>\n",
       "      <td>[1.0145092655307018e-17, 1.3742328230303114e-1...</td>\n",
       "      <td>1.0</td>\n",
       "    </tr>\n",
       "    <tr>\n",
       "      <th>1</th>\n",
       "      <td>2</td>\n",
       "      <td>[0.0, 0.0001150483202945237, 0.000230096640589...</td>\n",
       "      <td>[1.2012512630922278e-17, 9.408809696922871e-18...</td>\n",
       "      <td>1.0</td>\n",
       "    </tr>\n",
       "    <tr>\n",
       "      <th>2</th>\n",
       "      <td>3</td>\n",
       "      <td>[0.0, 0.0001150483202945237, 0.000230096640589...</td>\n",
       "      <td>[4.953354143331156e-18, 1.1988600829190209e-17...</td>\n",
       "      <td>0.0</td>\n",
       "    </tr>\n",
       "    <tr>\n",
       "      <th>3</th>\n",
       "      <td>4</td>\n",
       "      <td>[0.0, 0.0001150483202945237, 0.000230096640589...</td>\n",
       "      <td>[8.094916221989224e-18, 9.60860405296951e-18, ...</td>\n",
       "      <td>1.0</td>\n",
       "    </tr>\n",
       "    <tr>\n",
       "      <th>4</th>\n",
       "      <td>5</td>\n",
       "      <td>[0.0, 0.0001150483202945237, 0.000230096640589...</td>\n",
       "      <td>[6.678644534662725e-18, 1.2868479172229612e-17...</td>\n",
       "      <td>1.0</td>\n",
       "    </tr>\n",
       "  </tbody>\n",
       "</table>\n",
       "</div>"
      ],
      "text/plain": [
       "   Signal                                          Frequency  \\\n",
       "0       1  [0.0, 0.0001150483202945237, 0.000230096640589...   \n",
       "1       2  [0.0, 0.0001150483202945237, 0.000230096640589...   \n",
       "2       3  [0.0, 0.0001150483202945237, 0.000230096640589...   \n",
       "3       4  [0.0, 0.0001150483202945237, 0.000230096640589...   \n",
       "4       5  [0.0, 0.0001150483202945237, 0.000230096640589...   \n",
       "\n",
       "                                           Magnitude  label  \n",
       "0  [1.0145092655307018e-17, 1.3742328230303114e-1...    1.0  \n",
       "1  [1.2012512630922278e-17, 9.408809696922871e-18...    1.0  \n",
       "2  [4.953354143331156e-18, 1.1988600829190209e-17...    0.0  \n",
       "3  [8.094916221989224e-18, 9.60860405296951e-18, ...    1.0  \n",
       "4  [6.678644534662725e-18, 1.2868479172229612e-17...    1.0  "
      ]
     },
     "execution_count": 3,
     "metadata": {},
     "output_type": "execute_result"
    }
   ],
   "source": [
    "# DATA Fourier\n",
    "fourier = pd.read_csv('fouriertable.csv')\n",
    "fourier.head()"
   ]
  },
  {
   "cell_type": "code",
   "execution_count": 7,
   "metadata": {},
   "outputs": [
    {
     "data": {
      "text/html": [
       "<div>\n",
       "<style scoped>\n",
       "    .dataframe tbody tr th:only-of-type {\n",
       "        vertical-align: middle;\n",
       "    }\n",
       "\n",
       "    .dataframe tbody tr th {\n",
       "        vertical-align: top;\n",
       "    }\n",
       "\n",
       "    .dataframe thead th {\n",
       "        text-align: right;\n",
       "    }\n",
       "</style>\n",
       "<table border=\"1\" class=\"dataframe\">\n",
       "  <thead>\n",
       "    <tr style=\"text-align: right;\">\n",
       "      <th></th>\n",
       "      <th>0</th>\n",
       "      <th>1</th>\n",
       "      <th>2</th>\n",
       "      <th>3</th>\n",
       "      <th>4</th>\n",
       "      <th>5</th>\n",
       "      <th>6</th>\n",
       "      <th>7</th>\n",
       "      <th>8</th>\n",
       "      <th>9</th>\n",
       "      <th>...</th>\n",
       "      <th>41</th>\n",
       "      <th>42</th>\n",
       "      <th>43</th>\n",
       "      <th>44</th>\n",
       "      <th>45</th>\n",
       "      <th>46</th>\n",
       "      <th>47</th>\n",
       "      <th>48</th>\n",
       "      <th>49</th>\n",
       "      <th>label</th>\n",
       "    </tr>\n",
       "  </thead>\n",
       "  <tbody>\n",
       "    <tr>\n",
       "      <th>0</th>\n",
       "      <td>37.627767</td>\n",
       "      <td>10.342046</td>\n",
       "      <td>0.078061</td>\n",
       "      <td>-5.288138</td>\n",
       "      <td>8.872239</td>\n",
       "      <td>1.434760</td>\n",
       "      <td>-0.110027</td>\n",
       "      <td>-0.648014</td>\n",
       "      <td>0.490423</td>\n",
       "      <td>-0.639894</td>\n",
       "      <td>...</td>\n",
       "      <td>-1.767158</td>\n",
       "      <td>0.772734</td>\n",
       "      <td>0.741328</td>\n",
       "      <td>1.263705</td>\n",
       "      <td>2.689977</td>\n",
       "      <td>-4.219663</td>\n",
       "      <td>-0.172278</td>\n",
       "      <td>0.808752</td>\n",
       "      <td>0.275810</td>\n",
       "      <td>1.0</td>\n",
       "    </tr>\n",
       "    <tr>\n",
       "      <th>1</th>\n",
       "      <td>14.276117</td>\n",
       "      <td>-7.163439</td>\n",
       "      <td>-3.086087</td>\n",
       "      <td>-1.457630</td>\n",
       "      <td>0.579997</td>\n",
       "      <td>-0.657228</td>\n",
       "      <td>-3.322131</td>\n",
       "      <td>2.059191</td>\n",
       "      <td>-1.014485</td>\n",
       "      <td>-0.516384</td>\n",
       "      <td>...</td>\n",
       "      <td>0.890924</td>\n",
       "      <td>-0.241787</td>\n",
       "      <td>1.423723</td>\n",
       "      <td>-2.702710</td>\n",
       "      <td>1.354544</td>\n",
       "      <td>-0.603018</td>\n",
       "      <td>-0.528865</td>\n",
       "      <td>-0.059551</td>\n",
       "      <td>2.206230</td>\n",
       "      <td>1.0</td>\n",
       "    </tr>\n",
       "    <tr>\n",
       "      <th>2</th>\n",
       "      <td>-5.561709</td>\n",
       "      <td>1.799668</td>\n",
       "      <td>1.055614</td>\n",
       "      <td>-4.437189</td>\n",
       "      <td>3.133624</td>\n",
       "      <td>-0.669611</td>\n",
       "      <td>0.005676</td>\n",
       "      <td>0.318730</td>\n",
       "      <td>-0.373604</td>\n",
       "      <td>0.195850</td>\n",
       "      <td>...</td>\n",
       "      <td>-1.984465</td>\n",
       "      <td>-0.065637</td>\n",
       "      <td>1.752120</td>\n",
       "      <td>-0.760853</td>\n",
       "      <td>0.243293</td>\n",
       "      <td>-0.034146</td>\n",
       "      <td>-2.378585</td>\n",
       "      <td>-0.102611</td>\n",
       "      <td>-0.145424</td>\n",
       "      <td>0.0</td>\n",
       "    </tr>\n",
       "    <tr>\n",
       "      <th>3</th>\n",
       "      <td>1.498112</td>\n",
       "      <td>-1.788720</td>\n",
       "      <td>3.855057</td>\n",
       "      <td>0.330659</td>\n",
       "      <td>-4.596590</td>\n",
       "      <td>-1.462437</td>\n",
       "      <td>-0.031987</td>\n",
       "      <td>0.153426</td>\n",
       "      <td>-1.298065</td>\n",
       "      <td>-1.089507</td>\n",
       "      <td>...</td>\n",
       "      <td>-0.610866</td>\n",
       "      <td>0.387044</td>\n",
       "      <td>-4.075057</td>\n",
       "      <td>3.388359</td>\n",
       "      <td>-0.747400</td>\n",
       "      <td>-0.817974</td>\n",
       "      <td>0.177122</td>\n",
       "      <td>2.763773</td>\n",
       "      <td>0.175290</td>\n",
       "      <td>1.0</td>\n",
       "    </tr>\n",
       "    <tr>\n",
       "      <th>4</th>\n",
       "      <td>-3.516210</td>\n",
       "      <td>0.224371</td>\n",
       "      <td>1.645021</td>\n",
       "      <td>0.399034</td>\n",
       "      <td>0.558233</td>\n",
       "      <td>0.865032</td>\n",
       "      <td>-2.585594</td>\n",
       "      <td>0.985361</td>\n",
       "      <td>1.466662</td>\n",
       "      <td>0.717391</td>\n",
       "      <td>...</td>\n",
       "      <td>-2.859650</td>\n",
       "      <td>-1.454379</td>\n",
       "      <td>-1.212596</td>\n",
       "      <td>-0.697088</td>\n",
       "      <td>-0.332959</td>\n",
       "      <td>-3.078199</td>\n",
       "      <td>-2.411767</td>\n",
       "      <td>-0.217808</td>\n",
       "      <td>-1.486168</td>\n",
       "      <td>1.0</td>\n",
       "    </tr>\n",
       "  </tbody>\n",
       "</table>\n",
       "<p>5 rows × 51 columns</p>\n",
       "</div>"
      ],
      "text/plain": [
       "           0          1         2         3         4         5         6  \\\n",
       "0  37.627767  10.342046  0.078061 -5.288138  8.872239  1.434760 -0.110027   \n",
       "1  14.276117  -7.163439 -3.086087 -1.457630  0.579997 -0.657228 -3.322131   \n",
       "2  -5.561709   1.799668  1.055614 -4.437189  3.133624 -0.669611  0.005676   \n",
       "3   1.498112  -1.788720  3.855057  0.330659 -4.596590 -1.462437 -0.031987   \n",
       "4  -3.516210   0.224371  1.645021  0.399034  0.558233  0.865032 -2.585594   \n",
       "\n",
       "          7         8         9  ...        41        42        43        44  \\\n",
       "0 -0.648014  0.490423 -0.639894  ... -1.767158  0.772734  0.741328  1.263705   \n",
       "1  2.059191 -1.014485 -0.516384  ...  0.890924 -0.241787  1.423723 -2.702710   \n",
       "2  0.318730 -0.373604  0.195850  ... -1.984465 -0.065637  1.752120 -0.760853   \n",
       "3  0.153426 -1.298065 -1.089507  ... -0.610866  0.387044 -4.075057  3.388359   \n",
       "4  0.985361  1.466662  0.717391  ... -2.859650 -1.454379 -1.212596 -0.697088   \n",
       "\n",
       "         45        46        47        48        49  label  \n",
       "0  2.689977 -4.219663 -0.172278  0.808752  0.275810    1.0  \n",
       "1  1.354544 -0.603018 -0.528865 -0.059551  2.206230    1.0  \n",
       "2  0.243293 -0.034146 -2.378585 -0.102611 -0.145424    0.0  \n",
       "3 -0.747400 -0.817974  0.177122  2.763773  0.175290    1.0  \n",
       "4 -0.332959 -3.078199 -2.411767 -0.217808 -1.486168    1.0  \n",
       "\n",
       "[5 rows x 51 columns]"
      ]
     },
     "metadata": {},
     "output_type": "display_data"
    },
    {
     "name": "stdout",
     "output_type": "stream",
     "text": [
      "(1500, 51)\n"
     ]
    }
   ],
   "source": [
    "pca = np.load('pca_result.npy')\n",
    "pca = pd.DataFrame(pca)\n",
    "# add the label column to the pca dataframe\n",
    "pca['label'] = fourier['label']\n",
    "\n",
    "\n",
    "\n",
    "display(pca.head())\n",
    "print(pca.shape)\n",
    "\n"
   ]
  },
  {
   "cell_type": "markdown",
   "metadata": {},
   "source": [
    "### Additional Data for Validation"
   ]
  },
  {
   "cell_type": "markdown",
   "metadata": {},
   "source": [
    "##### Preprocessing"
   ]
  },
  {
   "cell_type": "code",
   "execution_count": 2,
   "metadata": {},
   "outputs": [],
   "source": [
    "def compute_frequency_domain(signals, start_idx, end_idx, sampling_rate=1.0):\n",
    "    frequency_domain_data = []\n",
    "    for i in range(start_idx, end_idx):\n",
    "        # Compute the FFT of the signal\n",
    "        signal_fft = fft(signals[i])\n",
    "        # Compute the corresponding frequencies\n",
    "        frequencies = fftfreq(len(signal_fft), d=1/sampling_rate)\n",
    "        # Filter frequencies and magnitudes in the range -0.05 to 0.05\n",
    "        filtered_indices = np.where((frequencies >= -0.05) & (frequencies <= 0.05))\n",
    "        filtered_frequencies = frequencies[filtered_indices].tolist()\n",
    "        filtered_magnitudes = np.abs(signal_fft)[filtered_indices].tolist()\n",
    "        # Store filtered frequencies and magnitudes\n",
    "        frequency_domain_data.append({\n",
    "            'Signal': i+1, \n",
    "            'Frequencies': filtered_frequencies, \n",
    "            'Magnitudes': filtered_magnitudes\n",
    "        })\n",
    "    return frequency_domain_data\n",
    "\n",
    "def procesamiento_pca(datos_np, hacerPCA: bool=True):\n",
    "    frequency_domain_results = compute_frequency_domain(datos_np, start_idx=0, end_idx=len(datos_np), sampling_rate=1.0)\n",
    "\n",
    "    # Convert the results into a DataFrame\n",
    "    frequency_domain_df = pd.DataFrame(frequency_domain_results)\n",
    "\n",
    "    # Extracting magnitudes of Fourier series data\n",
    "    magnitudes = frequency_domain_df['Magnitudes'].values\n",
    "\n",
    "    # Reshaping magnitudes to match the expected input shape for t-SNE\n",
    "    reshaped_magnitudes = np.vstack(magnitudes)\n",
    "\n",
    "    # Normalize the data\n",
    "    scaler = StandardScaler()\n",
    "    normalized_magnitudes = scaler.fit_transform(reshaped_magnitudes)\n",
    "\n",
    "    #En caso de poner false\n",
    "    pca_result = normalized_magnitudes\n",
    "\n",
    "    # Optionally apply PCA before t-SNE\n",
    "    if hacerPCA:\n",
    "        pca = PCA(n_components=50)\n",
    "        pca_result = pca.fit_transform(normalized_magnitudes)\n",
    "    \n",
    "\n",
    "    return pca_result"
   ]
  },
  {
   "cell_type": "code",
   "execution_count": 3,
   "metadata": {},
   "outputs": [],
   "source": [
    "# TRAINING DATA\n",
    "datos_np = np.load('data/noisy_signals.npy')\n",
    "labels = np.load('data/labels.npy')\n",
    "\n",
    "X = procesamiento_pca(datos_np)\n",
    "y = labels\n"
   ]
  },
  {
   "cell_type": "code",
   "execution_count": null,
   "metadata": {},
   "outputs": [],
   "source": [
    "\n",
    "\n",
    "\n",
    "\n",
    "# DATOS VALIDACIÓN (baja) ( R = 0.25)\n",
    "datos_np = np.load('data/noisy_signals_025.npy')\n",
    "labels = np.load('data/labels_025.npy')\n",
    "\n",
    "X_test_ruido = procesamiento_pca(datos_np)\n",
    "y_test_ruido = labels\n"
   ]
  },
  {
   "cell_type": "code",
   "execution_count": null,
   "metadata": {},
   "outputs": [],
   "source": [
    "\n",
    "\n",
    "# DATOS VALIDACIÓN (baja) (R=0.5)\n",
    "datos_np = np.load('data/noisy_signals_r_0.5.npy')\n",
    "labels = np.load('data/labels_r_0.5.npy')\n",
    "\n",
    "X_test_ruido_5 = procesamiento_pca(datos_np)\n",
    "y_test_ruido_5 = labels\n",
    "\n",
    "\n",
    "# DATOS VALIDACIÓN (baja) (R= 0.3)\n",
    "datos_np = np.load('data/noisy_signals_r_0.3.npy')\n",
    "labels = np.load('data/labels_r_0.3.npy')\n",
    "\n",
    "X_test_ruido_3 = procesamiento_pca(datos_np)\n",
    "y_test_ruido_3 = labels\n",
    "\n",
    "\n",
    "\n",
    "# DATOS VALIDACIÓN (baja) (R= 0.15)\n",
    "datos_np = np.load('data/noisy_signals_r_0.15.npy')\n",
    "labels = np.load('data/labels_r_0.15.npy')\n",
    "\n",
    "X_test_ruido_15 = procesamiento_pca(datos_np)\n",
    "y_test_ruido_15 = labels\n",
    "\n",
    "\n",
    "# DATOS VALIDACIÓN (baja) (R= 0.065)\n",
    "datos_np = np.load('data/noisy_signals_r_0.065.npy')\n",
    "labels = np.load('data/labels_r_0.065.npy')\n",
    "\n",
    "X_test_ruido_065 = procesamiento_pca(datos_np)\n",
    "y_test_ruido_065 = labels\n",
    "\n",
    "\n",
    "\n",
    "# DATOS VALIDACIÓN (baja) (R=.2)\n",
    "datos_np = np.load('data/noisy_signals_r_0.2.npy')\n",
    "labels = np.load('data/labels_r_0.2.npy')\n",
    "\n",
    "X_test_ruido_2 = procesamiento_pca(datos_np)\n",
    "y_test_ruido_2 = labels\n",
    "\n",
    "\n",
    "\n",
    "\n",
    "\n",
    "\n",
    "# DATOS VALIDACIÓN (alta) (R= 0.65)\n",
    "datos_np = np.load('data/noisy_signals.npy')\n",
    "labels = np.load('data/labels.npy')\n",
    "\n",
    "X_test_ruido_65 = procesamiento_pca(datos_np)\n",
    "y_test_ruido_65 = labels\n",
    "\n"
   ]
  },
  {
   "cell_type": "markdown",
   "metadata": {},
   "source": [
    "### RandomForestClassifier"
   ]
  },
  {
   "cell_type": "code",
   "execution_count": 4,
   "metadata": {},
   "outputs": [
    {
     "name": "stdout",
     "output_type": "stream",
     "text": [
      "Average Accuracy (Cross-Validation): 0.9466666666666667\n",
      "Accuracy: 0.95\n"
     ]
    },
    {
     "data": {
      "text/plain": [
       "['models/random_forest_model.pkl']"
      ]
     },
     "execution_count": 4,
     "metadata": {},
     "output_type": "execute_result"
    }
   ],
   "source": [
    "\n",
    "# Split data into training and testing sets\n",
    "X_train, X_test, y_train, y_test = train_test_split(X, y, test_size=0.2, random_state=42)\n",
    "\n",
    "# Create a Random Forest Classifier\n",
    "model = RandomForestClassifier(n_estimators=100, random_state=42)\n",
    "\n",
    "# Perform k-fold cross-validation\n",
    "cv_scores = cross_val_score(model, X, y, cv=5)\n",
    "\n",
    "# Calculate the average accuracy across folds\n",
    "avg_accuracy = np.mean(cv_scores)\n",
    "print(\"Average Accuracy (Cross-Validation):\", avg_accuracy)\n",
    "\n",
    "# Train the model on the entire training set\n",
    "model.fit(X_train, y_train)\n",
    "\n",
    "# Predict labels for the test set\n",
    "y_pred = model.predict(X_test)\n",
    "\n",
    "# Calculate accuracy\n",
    "accuracy = accuracy_score(y_test, y_pred)\n",
    "print(\"Accuracy:\", accuracy)\n",
    "\n",
    "# Save the trained model\n",
    "import joblib\n",
    "joblib.dump(model, 'models/random_forest_model.pkl')"
   ]
  },
  {
   "cell_type": "markdown",
   "metadata": {},
   "source": [
    "#### Validating data with more noise"
   ]
  },
  {
   "cell_type": "code",
   "execution_count": 29,
   "metadata": {},
   "outputs": [
    {
     "name": "stdout",
     "output_type": "stream",
     "text": [
      "Accuracy: 0.6066666666666667\n"
     ]
    }
   ],
   "source": [
    "\n",
    "y_pred_ruido = model.predict(X_test_ruido)\n",
    "\n",
    "# Calculate accuracy\n",
    "accuracy_ruido = accuracy_score(y_test_ruido, y_pred_ruido)\n",
    "print(\"Accuracy:\", accuracy_ruido)"
   ]
  },
  {
   "cell_type": "markdown",
   "metadata": {},
   "source": [
    "#### Validating data with less noise"
   ]
  },
  {
   "cell_type": "code",
   "execution_count": 59,
   "metadata": {},
   "outputs": [
    {
     "name": "stdout",
     "output_type": "stream",
     "text": [
      "Accuracy: 0.976\n"
     ]
    }
   ],
   "source": [
    "\n",
    "y_pred_ruido = model.predict(X_test_ruido_65)\n",
    "\n",
    "# Calculate accuracy\n",
    "accuracy_ruido = accuracy_score(y_test_ruido_65, y_pred_ruido)\n",
    "print(\"Accuracy:\", accuracy_ruido)"
   ]
  },
  {
   "cell_type": "code",
   "execution_count": 60,
   "metadata": {},
   "outputs": [
    {
     "name": "stdout",
     "output_type": "stream",
     "text": [
      "Accuracy: 0.526\n"
     ]
    }
   ],
   "source": [
    "\n",
    "y_pred_ruido = model.predict(X_test_ruido_15)\n",
    "\n",
    "# Calculate accuracy\n",
    "accuracy_ruido = accuracy_score(y_test_ruido_15, y_pred_ruido)\n",
    "print(\"Accuracy:\", accuracy_ruido)"
   ]
  },
  {
   "cell_type": "code",
   "execution_count": 61,
   "metadata": {},
   "outputs": [
    {
     "name": "stdout",
     "output_type": "stream",
     "text": [
      "Accuracy: 0.9533333333333334\n"
     ]
    }
   ],
   "source": [
    "\n",
    "y_pred_ruido = model.predict(X_test_ruido_5)\n",
    "\n",
    "# Calculate accuracy\n",
    "accuracy_ruido = accuracy_score(y_test_ruido_5, y_pred_ruido)\n",
    "print(\"Accuracy:\", accuracy_ruido)"
   ]
  },
  {
   "cell_type": "code",
   "execution_count": 62,
   "metadata": {},
   "outputs": [
    {
     "name": "stdout",
     "output_type": "stream",
     "text": [
      "Accuracy: 0.77\n"
     ]
    }
   ],
   "source": [
    "\n",
    "y_pred_ruido = model.predict(X_test_ruido_3)\n",
    "\n",
    "# Calculate accuracy\n",
    "accuracy_ruido = accuracy_score(y_test_ruido_3, y_pred_ruido)\n",
    "print(\"Accuracy:\", accuracy_ruido)"
   ]
  },
  {
   "cell_type": "code",
   "execution_count": 63,
   "metadata": {},
   "outputs": [
    {
     "name": "stdout",
     "output_type": "stream",
     "text": [
      "Accuracy: 0.4846666666666667\n"
     ]
    }
   ],
   "source": [
    "\n",
    "y_pred_ruido = model.predict(X_test_ruido_065)\n",
    "\n",
    "# Calculate accuracy\n",
    "accuracy_ruido = accuracy_score(y_test_ruido_065, y_pred_ruido)\n",
    "print(\"Accuracy:\", accuracy_ruido)"
   ]
  },
  {
   "cell_type": "code",
   "execution_count": 64,
   "metadata": {},
   "outputs": [
    {
     "name": "stdout",
     "output_type": "stream",
     "text": [
      "Accuracy: 0.574\n"
     ]
    }
   ],
   "source": [
    "\n",
    "y_pred_ruido = model.predict(X_test_ruido_2)\n",
    "\n",
    "# Calculate accuracy\n",
    "accuracy_ruido = accuracy_score(y_test_ruido_2, y_pred_ruido)\n",
    "print(\"Accuracy:\", accuracy_ruido)"
   ]
  },
  {
   "cell_type": "markdown",
   "metadata": {},
   "source": [
    "### SVM"
   ]
  },
  {
   "cell_type": "code",
   "execution_count": 5,
   "metadata": {},
   "outputs": [
    {
     "name": "stdout",
     "output_type": "stream",
     "text": [
      "SVM Accuracy: 0.9533333333333334\n"
     ]
    },
    {
     "data": {
      "text/plain": [
       "['models/svm_model.pkl']"
      ]
     },
     "execution_count": 5,
     "metadata": {},
     "output_type": "execute_result"
    }
   ],
   "source": [
    "# Create SVM classifier\n",
    "svm_model = SVC(kernel='rbf', C=1.0, gamma='scale')\n",
    "\n",
    "# Train the model\n",
    "svm_model.fit(X_train, y_train)\n",
    "\n",
    "# Predict labels for the test set\n",
    "y_pred_svm = svm_model.predict(X_test)\n",
    "\n",
    "# Calculate accuracy\n",
    "accuracy_svm = accuracy_score(y_test, y_pred_svm)\n",
    "print(\"SVM Accuracy:\", accuracy_svm)\n",
    "# Save the trained SVM model\n",
    "joblib.dump(svm_model, 'models/svm_model.pkl')"
   ]
  },
  {
   "cell_type": "code",
   "execution_count": 66,
   "metadata": {},
   "outputs": [
    {
     "name": "stdout",
     "output_type": "stream",
     "text": [
      "SVM Accuracy: 0.76\n"
     ]
    }
   ],
   "source": [
    "y_pred_svm_ruido = svm_model.predict(X_test_ruido)\n",
    "\n",
    "# Calculate accuracy\n",
    "accuracy_svm_ruido = accuracy_score(y_test_ruido, y_pred_svm_ruido)\n",
    "print(\"SVM Accuracy:\", accuracy_svm_ruido)"
   ]
  },
  {
   "cell_type": "code",
   "execution_count": 67,
   "metadata": {},
   "outputs": [
    {
     "name": "stdout",
     "output_type": "stream",
     "text": [
      "SVM Accuracy: 0.9233333333333333\n"
     ]
    }
   ],
   "source": [
    "y_pred_svm_ruido = svm_model.predict(X_test_ruido_65)\n",
    "\n",
    "# Calculate accuracy\n",
    "accuracy_svm_ruido = accuracy_score(y_test_ruido_65, y_pred_svm_ruido)\n",
    "print(\"SVM Accuracy:\", accuracy_svm_ruido)"
   ]
  },
  {
   "cell_type": "code",
   "execution_count": 68,
   "metadata": {},
   "outputs": [
    {
     "name": "stdout",
     "output_type": "stream",
     "text": [
      "SVM Accuracy: 0.5686666666666667\n"
     ]
    }
   ],
   "source": [
    "y_pred_svm_ruido = svm_model.predict(X_test_ruido_15)\n",
    "\n",
    "# Calculate accuracy\n",
    "accuracy_svm_ruido = accuracy_score(y_test_ruido_15, y_pred_svm_ruido)\n",
    "print(\"SVM Accuracy:\", accuracy_svm_ruido)"
   ]
  },
  {
   "cell_type": "code",
   "execution_count": 69,
   "metadata": {},
   "outputs": [
    {
     "name": "stdout",
     "output_type": "stream",
     "text": [
      "SVM Accuracy: 0.904\n"
     ]
    }
   ],
   "source": [
    "y_pred_svm_ruido = svm_model.predict(X_test_ruido_5)\n",
    "\n",
    "# Calculate accuracy\n",
    "accuracy_svm_ruido = accuracy_score(y_test_ruido_5, y_pred_svm_ruido)\n",
    "print(\"SVM Accuracy:\", accuracy_svm_ruido)"
   ]
  },
  {
   "cell_type": "code",
   "execution_count": 70,
   "metadata": {},
   "outputs": [
    {
     "name": "stdout",
     "output_type": "stream",
     "text": [
      "SVM Accuracy: 0.8646666666666667\n"
     ]
    }
   ],
   "source": [
    "y_pred_svm_ruido = svm_model.predict(X_test_ruido_3)\n",
    "\n",
    "# Calculate accuracy\n",
    "accuracy_svm_ruido = accuracy_score(y_test_ruido_3, y_pred_svm_ruido)\n",
    "print(\"SVM Accuracy:\", accuracy_svm_ruido)"
   ]
  },
  {
   "cell_type": "code",
   "execution_count": 71,
   "metadata": {},
   "outputs": [
    {
     "name": "stdout",
     "output_type": "stream",
     "text": [
      "SVM Accuracy: 0.48933333333333334\n"
     ]
    }
   ],
   "source": [
    "y_pred_svm_ruido = svm_model.predict(X_test_ruido_065)\n",
    "\n",
    "# Calculate accuracy\n",
    "accuracy_svm_ruido = accuracy_score(y_test_ruido_065, y_pred_svm_ruido)\n",
    "print(\"SVM Accuracy:\", accuracy_svm_ruido)"
   ]
  },
  {
   "cell_type": "code",
   "execution_count": 72,
   "metadata": {},
   "outputs": [
    {
     "name": "stdout",
     "output_type": "stream",
     "text": [
      "SVM Accuracy: 0.672\n"
     ]
    }
   ],
   "source": [
    "y_pred_svm_ruido = svm_model.predict(X_test_ruido_2)\n",
    "\n",
    "# Calculate accuracy\n",
    "accuracy_svm_ruido = accuracy_score(y_test_ruido_2, y_pred_svm_ruido)\n",
    "print(\"SVM Accuracy:\", accuracy_svm_ruido)"
   ]
  },
  {
   "cell_type": "markdown",
   "metadata": {},
   "source": [
    "### XGBoost"
   ]
  },
  {
   "cell_type": "code",
   "execution_count": 6,
   "metadata": {},
   "outputs": [
    {
     "name": "stdout",
     "output_type": "stream",
     "text": [
      "XGBoost Accuracy: 0.95\n"
     ]
    },
    {
     "data": {
      "text/plain": [
       "['models/xgb_model.pkl']"
      ]
     },
     "execution_count": 6,
     "metadata": {},
     "output_type": "execute_result"
    }
   ],
   "source": [
    "# Create XGBoost classifier\n",
    "xgb_model = XGBClassifier(n_estimators=100, learning_rate=0.1)\n",
    "\n",
    "# Train the model\n",
    "xgb_model.fit(X_train, y_train)\n",
    "\n",
    "# Predict labels for the test set\n",
    "y_pred_xgb = xgb_model.predict(X_test)\n",
    "\n",
    "# Calculate accuracy\n",
    "accuracy_xgb = accuracy_score(y_test, y_pred_xgb)\n",
    "print(\"XGBoost Accuracy:\", accuracy_xgb)\n",
    "# save the trained XGBoost model\n",
    "joblib.dump(xgb_model, 'models/xgb_model.pkl')"
   ]
  },
  {
   "cell_type": "code",
   "execution_count": 74,
   "metadata": {},
   "outputs": [
    {
     "name": "stdout",
     "output_type": "stream",
     "text": [
      "XGBoost Accuracy: 0.6513333333333333\n"
     ]
    }
   ],
   "source": [
    "y_pred_xgb_ruido = xgb_model.predict(X_test_ruido)\n",
    "\n",
    "# Calculate accuracy\n",
    "accuracy_xgb = accuracy_score(y_test_ruido, y_pred_xgb_ruido)\n",
    "print(\"XGBoost Accuracy:\", accuracy_xgb)"
   ]
  },
  {
   "cell_type": "code",
   "execution_count": 75,
   "metadata": {},
   "outputs": [
    {
     "name": "stdout",
     "output_type": "stream",
     "text": [
      "XGBoost Accuracy: 0.9766666666666667\n"
     ]
    }
   ],
   "source": [
    "y_pred_xgb_ruido = xgb_model.predict(X_test_ruido_65)\n",
    "\n",
    "# Calculate accuracy\n",
    "accuracy_xgb = accuracy_score(y_test_ruido_65, y_pred_xgb_ruido)\n",
    "print(\"XGBoost Accuracy:\", accuracy_xgb)"
   ]
  },
  {
   "cell_type": "code",
   "execution_count": 76,
   "metadata": {},
   "outputs": [
    {
     "name": "stdout",
     "output_type": "stream",
     "text": [
      "XGBoost Accuracy: 0.538\n"
     ]
    }
   ],
   "source": [
    "y_pred_xgb_ruido = xgb_model.predict(X_test_ruido_15)\n",
    "\n",
    "# Calculate accuracy\n",
    "accuracy_xgb = accuracy_score(y_test_ruido_15, y_pred_xgb_ruido)\n",
    "print(\"XGBoost Accuracy:\", accuracy_xgb)"
   ]
  },
  {
   "cell_type": "code",
   "execution_count": 77,
   "metadata": {},
   "outputs": [
    {
     "name": "stdout",
     "output_type": "stream",
     "text": [
      "XGBoost Accuracy: 0.974\n"
     ]
    }
   ],
   "source": [
    "y_pred_xgb_ruido = xgb_model.predict(X_test_ruido_5)\n",
    "\n",
    "# Calculate accuracy\n",
    "accuracy_xgb = accuracy_score(y_test_ruido_5, y_pred_xgb_ruido)\n",
    "print(\"XGBoost Accuracy:\", accuracy_xgb)"
   ]
  },
  {
   "cell_type": "code",
   "execution_count": 78,
   "metadata": {},
   "outputs": [
    {
     "name": "stdout",
     "output_type": "stream",
     "text": [
      "XGBoost Accuracy: 0.7893333333333333\n"
     ]
    }
   ],
   "source": [
    "y_pred_xgb_ruido = xgb_model.predict(X_test_ruido_3)\n",
    "\n",
    "# Calculate accuracy\n",
    "accuracy_xgb = accuracy_score(y_test_ruido_3, y_pred_xgb_ruido)\n",
    "print(\"XGBoost Accuracy:\", accuracy_xgb)"
   ]
  },
  {
   "cell_type": "code",
   "execution_count": 79,
   "metadata": {},
   "outputs": [
    {
     "name": "stdout",
     "output_type": "stream",
     "text": [
      "XGBoost Accuracy: 0.47933333333333333\n"
     ]
    }
   ],
   "source": [
    "y_pred_xgb_ruido = xgb_model.predict(X_test_ruido_065)\n",
    "\n",
    "# Calculate accuracy\n",
    "accuracy_xgb = accuracy_score(y_test_ruido_065, y_pred_xgb_ruido)\n",
    "print(\"XGBoost Accuracy:\", accuracy_xgb)"
   ]
  },
  {
   "cell_type": "markdown",
   "metadata": {},
   "source": [
    "### Logistic Regression"
   ]
  },
  {
   "cell_type": "code",
   "execution_count": 7,
   "metadata": {},
   "outputs": [
    {
     "name": "stdout",
     "output_type": "stream",
     "text": [
      "Logistic Regression Accuracy: 0.9433333333333334\n"
     ]
    }
   ],
   "source": [
    "# Create logistic regression classifier with L2 regularization (Ridge)\n",
    "logistic_model = LogisticRegression(penalty='l2', C=1.0)\n",
    "\n",
    "# Train the model\n",
    "logistic_model.fit(X_train, y_train)\n",
    "\n",
    "# Predict labels for the test set\n",
    "y_pred_logistic = logistic_model.predict(X_test)\n",
    "\n",
    "# Calculate accuracy\n",
    "accuracy_logistic = accuracy_score(y_test, y_pred_logistic)\n",
    "print(\"Logistic Regression Accuracy:\", accuracy_logistic)"
   ]
  },
  {
   "cell_type": "code",
   "execution_count": 81,
   "metadata": {},
   "outputs": [
    {
     "name": "stdout",
     "output_type": "stream",
     "text": [
      "Logistic Regression Accuracy: 0.7066666666666667\n"
     ]
    }
   ],
   "source": [
    "# Predict labels for the test set\n",
    "y_pred_logistic_ruido = logistic_model.predict(X_test_ruido)\n",
    "\n",
    "# Calculate accuracy\n",
    "accuracy_logistic_ruido = accuracy_score(y_test_ruido, y_pred_logistic_ruido)\n",
    "print(\"Logistic Regression Accuracy:\", accuracy_logistic_ruido)"
   ]
  },
  {
   "cell_type": "code",
   "execution_count": 82,
   "metadata": {},
   "outputs": [
    {
     "name": "stdout",
     "output_type": "stream",
     "text": [
      "Logistic Regression Accuracy: 0.952\n"
     ]
    }
   ],
   "source": [
    "# Predict labels for the test set\n",
    "y_pred_logistic_ruido = logistic_model.predict(X_test_ruido_65)\n",
    "\n",
    "# Calculate accuracy\n",
    "accuracy_logistic_ruido = accuracy_score(y_test_ruido_65, y_pred_logistic_ruido)\n",
    "print(\"Logistic Regression Accuracy:\", accuracy_logistic_ruido)"
   ]
  },
  {
   "cell_type": "code",
   "execution_count": 83,
   "metadata": {},
   "outputs": [
    {
     "name": "stdout",
     "output_type": "stream",
     "text": [
      "Logistic Regression Accuracy: 0.5266666666666666\n"
     ]
    }
   ],
   "source": [
    "# Predict labels for the test set\n",
    "y_pred_logistic_ruido = logistic_model.predict(X_test_ruido_15)\n",
    "\n",
    "# Calculate accuracy\n",
    "accuracy_logistic_ruido = accuracy_score(y_test_ruido_15, y_pred_logistic_ruido)\n",
    "print(\"Logistic Regression Accuracy:\", accuracy_logistic_ruido)"
   ]
  },
  {
   "cell_type": "code",
   "execution_count": 84,
   "metadata": {},
   "outputs": [
    {
     "name": "stdout",
     "output_type": "stream",
     "text": [
      "Logistic Regression Accuracy: 0.9013333333333333\n"
     ]
    }
   ],
   "source": [
    "# Predict labels for the test set\n",
    "y_pred_logistic_ruido = logistic_model.predict(X_test_ruido_5)\n",
    "\n",
    "# Calculate accuracy\n",
    "accuracy_logistic_ruido = accuracy_score(y_test_ruido_5, y_pred_logistic_ruido)\n",
    "print(\"Logistic Regression Accuracy:\", accuracy_logistic_ruido)"
   ]
  },
  {
   "cell_type": "code",
   "execution_count": 85,
   "metadata": {},
   "outputs": [
    {
     "name": "stdout",
     "output_type": "stream",
     "text": [
      "Logistic Regression Accuracy: 0.808\n"
     ]
    }
   ],
   "source": [
    "# Predict labels for the test set\n",
    "y_pred_logistic_ruido = logistic_model.predict(X_test_ruido_3)\n",
    "\n",
    "# Calculate accuracy\n",
    "accuracy_logistic_ruido = accuracy_score(y_test_ruido_3, y_pred_logistic_ruido)\n",
    "print(\"Logistic Regression Accuracy:\", accuracy_logistic_ruido)"
   ]
  },
  {
   "cell_type": "code",
   "execution_count": 86,
   "metadata": {},
   "outputs": [
    {
     "name": "stdout",
     "output_type": "stream",
     "text": [
      "Logistic Regression Accuracy: 0.488\n"
     ]
    }
   ],
   "source": [
    "# Predict labels for the test set\n",
    "y_pred_logistic_ruido = logistic_model.predict(X_test_ruido_065)\n",
    "\n",
    "# Calculate accuracy\n",
    "accuracy_logistic_ruido = accuracy_score(y_test_ruido_065, y_pred_logistic_ruido)\n",
    "print(\"Logistic Regression Accuracy:\", accuracy_logistic_ruido)"
   ]
  },
  {
   "cell_type": "markdown",
   "metadata": {},
   "source": [
    "### Neural Network 1"
   ]
  },
  {
   "cell_type": "code",
   "execution_count": 10,
   "metadata": {},
   "outputs": [
    {
     "name": "stdout",
     "output_type": "stream",
     "text": [
      "Epoch 1/10\n"
     ]
    },
    {
     "name": "stderr",
     "output_type": "stream",
     "text": [
      "d:\\anaconda3_5\\envs\\gcwtda\\lib\\site-packages\\keras\\src\\layers\\core\\dense.py:87: UserWarning: Do not pass an `input_shape`/`input_dim` argument to a layer. When using Sequential models, prefer using an `Input(shape)` object as the first layer in the model instead.\n",
      "  super().__init__(activity_regularizer=activity_regularizer, **kwargs)\n"
     ]
    },
    {
     "name": "stdout",
     "output_type": "stream",
     "text": [
      "\u001b[1m30/30\u001b[0m \u001b[32m━━━━━━━━━━━━━━━━━━━━\u001b[0m\u001b[37m\u001b[0m \u001b[1m2s\u001b[0m 9ms/step - accuracy: 0.5103 - loss: 1.3289 - val_accuracy: 0.6875 - val_loss: 0.5484\n",
      "Epoch 2/10\n",
      "\u001b[1m30/30\u001b[0m \u001b[32m━━━━━━━━━━━━━━━━━━━━\u001b[0m\u001b[37m\u001b[0m \u001b[1m0s\u001b[0m 2ms/step - accuracy: 0.6536 - loss: 0.8321 - val_accuracy: 0.7833 - val_loss: 0.4326\n",
      "Epoch 3/10\n",
      "\u001b[1m30/30\u001b[0m \u001b[32m━━━━━━━━━━━━━━━━━━━━\u001b[0m\u001b[37m\u001b[0m \u001b[1m0s\u001b[0m 3ms/step - accuracy: 0.7111 - loss: 0.6495 - val_accuracy: 0.8333 - val_loss: 0.3791\n",
      "Epoch 4/10\n",
      "\u001b[1m30/30\u001b[0m \u001b[32m━━━━━━━━━━━━━━━━━━━━\u001b[0m\u001b[37m\u001b[0m \u001b[1m0s\u001b[0m 2ms/step - accuracy: 0.7276 - loss: 0.6106 - val_accuracy: 0.8542 - val_loss: 0.3366\n",
      "Epoch 5/10\n",
      "\u001b[1m30/30\u001b[0m \u001b[32m━━━━━━━━━━━━━━━━━━━━\u001b[0m\u001b[37m\u001b[0m \u001b[1m0s\u001b[0m 3ms/step - accuracy: 0.7412 - loss: 0.5447 - val_accuracy: 0.8750 - val_loss: 0.3059\n",
      "Epoch 6/10\n",
      "\u001b[1m30/30\u001b[0m \u001b[32m━━━━━━━━━━━━━━━━━━━━\u001b[0m\u001b[37m\u001b[0m \u001b[1m0s\u001b[0m 3ms/step - accuracy: 0.7907 - loss: 0.4334 - val_accuracy: 0.8917 - val_loss: 0.2766\n",
      "Epoch 7/10\n",
      "\u001b[1m30/30\u001b[0m \u001b[32m━━━━━━━━━━━━━━━━━━━━\u001b[0m\u001b[37m\u001b[0m \u001b[1m0s\u001b[0m 2ms/step - accuracy: 0.7954 - loss: 0.4380 - val_accuracy: 0.9167 - val_loss: 0.2581\n",
      "Epoch 8/10\n",
      "\u001b[1m30/30\u001b[0m \u001b[32m━━━━━━━━━━━━━━━━━━━━\u001b[0m\u001b[37m\u001b[0m \u001b[1m0s\u001b[0m 3ms/step - accuracy: 0.8335 - loss: 0.3827 - val_accuracy: 0.9208 - val_loss: 0.2396\n",
      "Epoch 9/10\n",
      "\u001b[1m30/30\u001b[0m \u001b[32m━━━━━━━━━━━━━━━━━━━━\u001b[0m\u001b[37m\u001b[0m \u001b[1m0s\u001b[0m 3ms/step - accuracy: 0.8437 - loss: 0.3356 - val_accuracy: 0.9167 - val_loss: 0.2234\n",
      "Epoch 10/10\n",
      "\u001b[1m30/30\u001b[0m \u001b[32m━━━━━━━━━━━━━━━━━━━━\u001b[0m\u001b[37m\u001b[0m \u001b[1m0s\u001b[0m 2ms/step - accuracy: 0.8468 - loss: 0.3717 - val_accuracy: 0.9208 - val_loss: 0.2149\n",
      "\u001b[1m10/10\u001b[0m \u001b[32m━━━━━━━━━━━━━━━━━━━━\u001b[0m\u001b[37m\u001b[0m \u001b[1m0s\u001b[0m 1ms/step - accuracy: 0.8922 - loss: 0.2404 \n",
      "Neural Network Accuracy: 0.8999999761581421\n"
     ]
    }
   ],
   "source": [
    "# Create a Sequential model\n",
    "nn_model = Sequential()\n",
    "\n",
    "# Add input layer and hidden layers with dropout\n",
    "nn_model.add(Dense(64, input_dim=X_train.shape[1], activation='relu'))\n",
    "nn_model.add(Dropout(0.5))\n",
    "nn_model.add(Dense(32, activation='relu'))\n",
    "nn_model.add(Dropout(0.5))\n",
    "\n",
    "# Add output layer\n",
    "nn_model.add(Dense(1, activation='sigmoid'))\n",
    "\n",
    "# Compile the model\n",
    "nn_model.compile(loss='binary_crossentropy', optimizer='adam', metrics=['accuracy'])\n",
    "\n",
    "# Train the model\n",
    "nn_model.fit(X_train, y_train, epochs=10, batch_size=32, validation_split=0.2)\n",
    "\n",
    "# Evaluate the model on test set\n",
    "accuracy_nn = nn_model.evaluate(X_test, y_test)[1]\n",
    "print(\"Neural Network Accuracy:\", accuracy_nn)\n",
    "\n",
    "# Save the trained neural network model\n",
    "nn_model.save('models/neural_network_model.keras')"
   ]
  },
  {
   "cell_type": "code",
   "execution_count": 9,
   "metadata": {},
   "outputs": [
    {
     "ename": "NameError",
     "evalue": "name 'X_test_ruido' is not defined",
     "output_type": "error",
     "traceback": [
      "\u001b[1;31m---------------------------------------------------------------------------\u001b[0m",
      "\u001b[1;31mNameError\u001b[0m                                 Traceback (most recent call last)",
      "Cell \u001b[1;32mIn[9], line 1\u001b[0m\n\u001b[1;32m----> 1\u001b[0m y_pred_nn \u001b[38;5;241m=\u001b[39m nn_model\u001b[38;5;241m.\u001b[39mpredict(\u001b[43mX_test_ruido\u001b[49m)\n\u001b[0;32m      2\u001b[0m y_pred_nn_binary \u001b[38;5;241m=\u001b[39m (y_pred_nn \u001b[38;5;241m>\u001b[39m \u001b[38;5;241m0.5\u001b[39m)\u001b[38;5;241m.\u001b[39mastype(\u001b[38;5;28mint\u001b[39m)  \u001b[38;5;66;03m# Convert probabilities to binary predictions\u001b[39;00m\n\u001b[0;32m      4\u001b[0m \u001b[38;5;66;03m# Calculate accuracy for the new data\u001b[39;00m\n",
      "\u001b[1;31mNameError\u001b[0m: name 'X_test_ruido' is not defined"
     ]
    }
   ],
   "source": [
    "y_pred_nn = nn_model.predict(X_test_ruido)\n",
    "y_pred_nn_binary = (y_pred_nn > 0.5).astype(int)  # Convert probabilities to binary predictions\n",
    "\n",
    "# Calculate accuracy for the new data\n",
    "accuracy_nn_new = accuracy_score(y_test_ruido, y_pred_nn_binary)\n",
    "print(\"New Data Neural Network Accuracy:\", accuracy_nn_new)"
   ]
  },
  {
   "cell_type": "code",
   "execution_count": 89,
   "metadata": {},
   "outputs": [
    {
     "name": "stdout",
     "output_type": "stream",
     "text": [
      "47/47 [==============================] - 0s 725us/step\n",
      "New Data Neural Network Accuracy: 0.81\n"
     ]
    }
   ],
   "source": [
    "y_pred_nn = nn_model.predict(X_test_ruido_65)\n",
    "y_pred_nn_binary = (y_pred_nn > 0.5).astype(int)  # Convert probabilities to binary predictions\n",
    "\n",
    "# Calculate accuracy for the new data\n",
    "accuracy_nn_new = accuracy_score(y_test_ruido_65, y_pred_nn_binary)\n",
    "print(\"New Data Neural Network Accuracy:\", accuracy_nn_new)"
   ]
  },
  {
   "cell_type": "code",
   "execution_count": 90,
   "metadata": {},
   "outputs": [
    {
     "name": "stdout",
     "output_type": "stream",
     "text": [
      "47/47 [==============================] - 0s 598us/step\n",
      "New Data Neural Network Accuracy: 0.5486666666666666\n"
     ]
    }
   ],
   "source": [
    "y_pred_nn = nn_model.predict(X_test_ruido_15)\n",
    "y_pred_nn_binary = (y_pred_nn > 0.5).astype(int)  # Convert probabilities to binary predictions\n",
    "\n",
    "# Calculate accuracy for the new data\n",
    "accuracy_nn_new = accuracy_score(y_test_ruido_15, y_pred_nn_binary)\n",
    "print(\"New Data Neural Network Accuracy:\", accuracy_nn_new)"
   ]
  },
  {
   "cell_type": "code",
   "execution_count": 91,
   "metadata": {},
   "outputs": [
    {
     "name": "stdout",
     "output_type": "stream",
     "text": [
      "47/47 [==============================] - 0s 773us/step\n",
      "New Data Neural Network Accuracy: 0.806\n"
     ]
    }
   ],
   "source": [
    "y_pred_nn = nn_model.predict(X_test_ruido_5)\n",
    "y_pred_nn_binary = (y_pred_nn > 0.5).astype(int)  # Convert probabilities to binary predictions\n",
    "\n",
    "# Calculate accuracy for the new data\n",
    "accuracy_nn_new = accuracy_score(y_test_ruido_5, y_pred_nn_binary)\n",
    "print(\"New Data Neural Network Accuracy:\", accuracy_nn_new)"
   ]
  },
  {
   "cell_type": "code",
   "execution_count": 92,
   "metadata": {},
   "outputs": [
    {
     "name": "stdout",
     "output_type": "stream",
     "text": [
      "47/47 [==============================] - 0s 959us/step\n",
      "New Data Neural Network Accuracy: 0.84\n"
     ]
    }
   ],
   "source": [
    "y_pred_nn = nn_model.predict(X_test_ruido_3)\n",
    "y_pred_nn_binary = (y_pred_nn > 0.5).astype(int)  # Convert probabilities to binary predictions\n",
    "\n",
    "# Calculate accuracy for the new data\n",
    "accuracy_nn_new = accuracy_score(y_test_ruido_3, y_pred_nn_binary)\n",
    "print(\"New Data Neural Network Accuracy:\", accuracy_nn_new)"
   ]
  },
  {
   "cell_type": "code",
   "execution_count": 93,
   "metadata": {},
   "outputs": [
    {
     "name": "stdout",
     "output_type": "stream",
     "text": [
      "47/47 [==============================] - 0s 699us/step\n",
      "New Data Neural Network Accuracy: 0.49733333333333335\n"
     ]
    }
   ],
   "source": [
    "y_pred_nn = nn_model.predict(X_test_ruido_065)\n",
    "y_pred_nn_binary = (y_pred_nn > 0.5).astype(int)  # Convert probabilities to binary predictions\n",
    "\n",
    "# Calculate accuracy for the new data\n",
    "accuracy_nn_new = accuracy_score(y_test_ruido_065, y_pred_nn_binary)\n",
    "print(\"New Data Neural Network Accuracy:\", accuracy_nn_new)"
   ]
  },
  {
   "cell_type": "markdown",
   "metadata": {},
   "source": [
    "### Neural Network (improved)"
   ]
  },
  {
   "cell_type": "code",
   "execution_count": 12,
   "metadata": {},
   "outputs": [
    {
     "name": "stdout",
     "output_type": "stream",
     "text": [
      "Epoch 1/100\n",
      "\u001b[1m30/30\u001b[0m \u001b[32m━━━━━━━━━━━━━━━━━━━━\u001b[0m\u001b[37m\u001b[0m \u001b[1m2s\u001b[0m 9ms/step - accuracy: 0.5199 - loss: 1.0196 - val_accuracy: 0.7292 - val_loss: 0.6510\n",
      "Epoch 2/100\n",
      "\u001b[1m30/30\u001b[0m \u001b[32m━━━━━━━━━━━━━━━━━━━━\u001b[0m\u001b[37m\u001b[0m \u001b[1m0s\u001b[0m 3ms/step - accuracy: 0.6512 - loss: 0.7882 - val_accuracy: 0.8292 - val_loss: 0.5405\n",
      "Epoch 3/100\n",
      "\u001b[1m30/30\u001b[0m \u001b[32m━━━━━━━━━━━━━━━━━━━━\u001b[0m\u001b[37m\u001b[0m \u001b[1m0s\u001b[0m 3ms/step - accuracy: 0.7212 - loss: 0.6738 - val_accuracy: 0.8625 - val_loss: 0.4808\n",
      "Epoch 4/100\n",
      "\u001b[1m30/30\u001b[0m \u001b[32m━━━━━━━━━━━━━━━━━━━━\u001b[0m\u001b[37m\u001b[0m \u001b[1m0s\u001b[0m 3ms/step - accuracy: 0.7826 - loss: 0.5615 - val_accuracy: 0.8792 - val_loss: 0.4413\n",
      "Epoch 5/100\n",
      "\u001b[1m30/30\u001b[0m \u001b[32m━━━━━━━━━━━━━━━━━━━━\u001b[0m\u001b[37m\u001b[0m \u001b[1m0s\u001b[0m 3ms/step - accuracy: 0.8104 - loss: 0.5122 - val_accuracy: 0.8917 - val_loss: 0.4024\n",
      "Epoch 6/100\n",
      "\u001b[1m30/30\u001b[0m \u001b[32m━━━━━━━━━━━━━━━━━━━━\u001b[0m\u001b[37m\u001b[0m \u001b[1m0s\u001b[0m 4ms/step - accuracy: 0.8404 - loss: 0.4621 - val_accuracy: 0.8917 - val_loss: 0.3743\n",
      "Epoch 7/100\n",
      "\u001b[1m30/30\u001b[0m \u001b[32m━━━━━━━━━━━━━━━━━━━━\u001b[0m\u001b[37m\u001b[0m \u001b[1m0s\u001b[0m 3ms/step - accuracy: 0.8574 - loss: 0.4441 - val_accuracy: 0.8958 - val_loss: 0.3500\n",
      "Epoch 8/100\n",
      "\u001b[1m30/30\u001b[0m \u001b[32m━━━━━━━━━━━━━━━━━━━━\u001b[0m\u001b[37m\u001b[0m \u001b[1m0s\u001b[0m 3ms/step - accuracy: 0.8796 - loss: 0.4055 - val_accuracy: 0.9125 - val_loss: 0.3259\n",
      "Epoch 9/100\n",
      "\u001b[1m30/30\u001b[0m \u001b[32m━━━━━━━━━━━━━━━━━━━━\u001b[0m\u001b[37m\u001b[0m \u001b[1m0s\u001b[0m 3ms/step - accuracy: 0.8786 - loss: 0.4028 - val_accuracy: 0.9167 - val_loss: 0.3086\n",
      "Epoch 10/100\n",
      "\u001b[1m30/30\u001b[0m \u001b[32m━━━━━━━━━━━━━━━━━━━━\u001b[0m\u001b[37m\u001b[0m \u001b[1m0s\u001b[0m 3ms/step - accuracy: 0.9216 - loss: 0.3311 - val_accuracy: 0.9333 - val_loss: 0.2896\n",
      "Epoch 11/100\n",
      "\u001b[1m30/30\u001b[0m \u001b[32m━━━━━━━━━━━━━━━━━━━━\u001b[0m\u001b[37m\u001b[0m \u001b[1m0s\u001b[0m 3ms/step - accuracy: 0.9157 - loss: 0.3284 - val_accuracy: 0.9375 - val_loss: 0.2733\n",
      "Epoch 12/100\n",
      "\u001b[1m30/30\u001b[0m \u001b[32m━━━━━━━━━━━━━━━━━━━━\u001b[0m\u001b[37m\u001b[0m \u001b[1m0s\u001b[0m 3ms/step - accuracy: 0.8960 - loss: 0.3473 - val_accuracy: 0.9375 - val_loss: 0.2596\n",
      "Epoch 13/100\n",
      "\u001b[1m30/30\u001b[0m \u001b[32m━━━━━━━━━━━━━━━━━━━━\u001b[0m\u001b[37m\u001b[0m \u001b[1m0s\u001b[0m 3ms/step - accuracy: 0.9000 - loss: 0.3124 - val_accuracy: 0.9375 - val_loss: 0.2516\n",
      "Epoch 14/100\n",
      "\u001b[1m30/30\u001b[0m \u001b[32m━━━━━━━━━━━━━━━━━━━━\u001b[0m\u001b[37m\u001b[0m \u001b[1m0s\u001b[0m 3ms/step - accuracy: 0.9181 - loss: 0.3165 - val_accuracy: 0.9333 - val_loss: 0.2449\n",
      "Epoch 15/100\n",
      "\u001b[1m30/30\u001b[0m \u001b[32m━━━━━━━━━━━━━━━━━━━━\u001b[0m\u001b[37m\u001b[0m \u001b[1m0s\u001b[0m 8ms/step - accuracy: 0.9314 - loss: 0.2742 - val_accuracy: 0.9333 - val_loss: 0.2389\n",
      "Epoch 16/100\n",
      "\u001b[1m30/30\u001b[0m \u001b[32m━━━━━━━━━━━━━━━━━━━━\u001b[0m\u001b[37m\u001b[0m \u001b[1m0s\u001b[0m 3ms/step - accuracy: 0.9331 - loss: 0.2683 - val_accuracy: 0.9292 - val_loss: 0.2322\n",
      "Epoch 17/100\n",
      "\u001b[1m30/30\u001b[0m \u001b[32m━━━━━━━━━━━━━━━━━━━━\u001b[0m\u001b[37m\u001b[0m \u001b[1m0s\u001b[0m 5ms/step - accuracy: 0.9375 - loss: 0.2529 - val_accuracy: 0.9292 - val_loss: 0.2257\n",
      "Epoch 18/100\n",
      "\u001b[1m30/30\u001b[0m \u001b[32m━━━━━━━━━━━━━━━━━━━━\u001b[0m\u001b[37m\u001b[0m \u001b[1m0s\u001b[0m 4ms/step - accuracy: 0.9283 - loss: 0.2662 - val_accuracy: 0.9375 - val_loss: 0.2194\n",
      "Epoch 19/100\n",
      "\u001b[1m30/30\u001b[0m \u001b[32m━━━━━━━━━━━━━━━━━━━━\u001b[0m\u001b[37m\u001b[0m \u001b[1m0s\u001b[0m 4ms/step - accuracy: 0.9266 - loss: 0.2635 - val_accuracy: 0.9292 - val_loss: 0.2163\n",
      "Epoch 20/100\n",
      "\u001b[1m30/30\u001b[0m \u001b[32m━━━━━━━━━━━━━━━━━━━━\u001b[0m\u001b[37m\u001b[0m \u001b[1m0s\u001b[0m 4ms/step - accuracy: 0.9289 - loss: 0.2614 - val_accuracy: 0.9417 - val_loss: 0.2137\n",
      "Epoch 21/100\n",
      "\u001b[1m30/30\u001b[0m \u001b[32m━━━━━━━━━━━━━━━━━━━━\u001b[0m\u001b[37m\u001b[0m \u001b[1m0s\u001b[0m 4ms/step - accuracy: 0.9468 - loss: 0.2382 - val_accuracy: 0.9500 - val_loss: 0.2101\n",
      "Epoch 22/100\n",
      "\u001b[1m30/30\u001b[0m \u001b[32m━━━━━━━━━━━━━━━━━━━━\u001b[0m\u001b[37m\u001b[0m \u001b[1m0s\u001b[0m 4ms/step - accuracy: 0.9532 - loss: 0.2167 - val_accuracy: 0.9500 - val_loss: 0.2057\n",
      "Epoch 23/100\n",
      "\u001b[1m30/30\u001b[0m \u001b[32m━━━━━━━━━━━━━━━━━━━━\u001b[0m\u001b[37m\u001b[0m \u001b[1m0s\u001b[0m 4ms/step - accuracy: 0.9554 - loss: 0.2302 - val_accuracy: 0.9458 - val_loss: 0.2030\n",
      "Epoch 24/100\n",
      "\u001b[1m30/30\u001b[0m \u001b[32m━━━━━━━━━━━━━━━━━━━━\u001b[0m\u001b[37m\u001b[0m \u001b[1m0s\u001b[0m 4ms/step - accuracy: 0.9335 - loss: 0.2394 - val_accuracy: 0.9500 - val_loss: 0.2014\n",
      "Epoch 25/100\n",
      "\u001b[1m30/30\u001b[0m \u001b[32m━━━━━━━━━━━━━━━━━━━━\u001b[0m\u001b[37m\u001b[0m \u001b[1m0s\u001b[0m 4ms/step - accuracy: 0.9351 - loss: 0.2397 - val_accuracy: 0.9542 - val_loss: 0.2008\n",
      "Epoch 26/100\n",
      "\u001b[1m30/30\u001b[0m \u001b[32m━━━━━━━━━━━━━━━━━━━━\u001b[0m\u001b[37m\u001b[0m \u001b[1m0s\u001b[0m 3ms/step - accuracy: 0.9513 - loss: 0.2213 - val_accuracy: 0.9542 - val_loss: 0.1960\n",
      "Epoch 27/100\n",
      "\u001b[1m30/30\u001b[0m \u001b[32m━━━━━━━━━━━━━━━━━━━━\u001b[0m\u001b[37m\u001b[0m \u001b[1m0s\u001b[0m 3ms/step - accuracy: 0.9352 - loss: 0.2498 - val_accuracy: 0.9542 - val_loss: 0.1942\n",
      "Epoch 28/100\n",
      "\u001b[1m30/30\u001b[0m \u001b[32m━━━━━━━━━━━━━━━━━━━━\u001b[0m\u001b[37m\u001b[0m \u001b[1m0s\u001b[0m 3ms/step - accuracy: 0.9296 - loss: 0.2353 - val_accuracy: 0.9542 - val_loss: 0.1908\n",
      "Epoch 29/100\n",
      "\u001b[1m30/30\u001b[0m \u001b[32m━━━━━━━━━━━━━━━━━━━━\u001b[0m\u001b[37m\u001b[0m \u001b[1m0s\u001b[0m 5ms/step - accuracy: 0.9596 - loss: 0.1960 - val_accuracy: 0.9583 - val_loss: 0.1903\n",
      "Epoch 30/100\n",
      "\u001b[1m30/30\u001b[0m \u001b[32m━━━━━━━━━━━━━━━━━━━━\u001b[0m\u001b[37m\u001b[0m \u001b[1m0s\u001b[0m 4ms/step - accuracy: 0.9357 - loss: 0.2316 - val_accuracy: 0.9583 - val_loss: 0.1903\n",
      "Epoch 31/100\n",
      "\u001b[1m30/30\u001b[0m \u001b[32m━━━━━━━━━━━━━━━━━━━━\u001b[0m\u001b[37m\u001b[0m \u001b[1m0s\u001b[0m 5ms/step - accuracy: 0.9332 - loss: 0.2378 - val_accuracy: 0.9583 - val_loss: 0.1881\n",
      "Epoch 32/100\n",
      "\u001b[1m30/30\u001b[0m \u001b[32m━━━━━━━━━━━━━━━━━━━━\u001b[0m\u001b[37m\u001b[0m \u001b[1m0s\u001b[0m 3ms/step - accuracy: 0.9389 - loss: 0.2231 - val_accuracy: 0.9667 - val_loss: 0.1874\n",
      "Epoch 33/100\n",
      "\u001b[1m30/30\u001b[0m \u001b[32m━━━━━━━━━━━━━━━━━━━━\u001b[0m\u001b[37m\u001b[0m \u001b[1m0s\u001b[0m 2ms/step - accuracy: 0.9554 - loss: 0.2020 - val_accuracy: 0.9625 - val_loss: 0.1880\n",
      "Epoch 34/100\n",
      "\u001b[1m30/30\u001b[0m \u001b[32m━━━━━━━━━━━━━━━━━━━━\u001b[0m\u001b[37m\u001b[0m \u001b[1m0s\u001b[0m 3ms/step - accuracy: 0.9306 - loss: 0.2392 - val_accuracy: 0.9625 - val_loss: 0.1820\n",
      "Epoch 35/100\n",
      "\u001b[1m30/30\u001b[0m \u001b[32m━━━━━━━━━━━━━━━━━━━━\u001b[0m\u001b[37m\u001b[0m \u001b[1m0s\u001b[0m 4ms/step - accuracy: 0.9386 - loss: 0.2306 - val_accuracy: 0.9667 - val_loss: 0.1783\n",
      "Epoch 36/100\n",
      "\u001b[1m30/30\u001b[0m \u001b[32m━━━━━━━━━━━━━━━━━━━━\u001b[0m\u001b[37m\u001b[0m \u001b[1m0s\u001b[0m 3ms/step - accuracy: 0.9373 - loss: 0.1990 - val_accuracy: 0.9625 - val_loss: 0.1790\n",
      "Epoch 37/100\n",
      "\u001b[1m30/30\u001b[0m \u001b[32m━━━━━━━━━━━━━━━━━━━━\u001b[0m\u001b[37m\u001b[0m \u001b[1m0s\u001b[0m 3ms/step - accuracy: 0.9503 - loss: 0.1955 - val_accuracy: 0.9583 - val_loss: 0.1777\n",
      "Epoch 38/100\n",
      "\u001b[1m30/30\u001b[0m \u001b[32m━━━━━━━━━━━━━━━━━━━━\u001b[0m\u001b[37m\u001b[0m \u001b[1m0s\u001b[0m 3ms/step - accuracy: 0.9433 - loss: 0.2016 - val_accuracy: 0.9583 - val_loss: 0.1768\n",
      "Epoch 39/100\n",
      "\u001b[1m30/30\u001b[0m \u001b[32m━━━━━━━━━━━━━━━━━━━━\u001b[0m\u001b[37m\u001b[0m \u001b[1m0s\u001b[0m 2ms/step - accuracy: 0.9466 - loss: 0.1989 - val_accuracy: 0.9583 - val_loss: 0.1764\n",
      "Epoch 40/100\n",
      "\u001b[1m30/30\u001b[0m \u001b[32m━━━━━━━━━━━━━━━━━━━━\u001b[0m\u001b[37m\u001b[0m \u001b[1m0s\u001b[0m 3ms/step - accuracy: 0.9405 - loss: 0.2164 - val_accuracy: 0.9625 - val_loss: 0.1740\n",
      "Epoch 41/100\n",
      "\u001b[1m30/30\u001b[0m \u001b[32m━━━━━━━━━━━━━━━━━━━━\u001b[0m\u001b[37m\u001b[0m \u001b[1m0s\u001b[0m 4ms/step - accuracy: 0.9600 - loss: 0.1822 - val_accuracy: 0.9667 - val_loss: 0.1739\n",
      "Epoch 42/100\n",
      "\u001b[1m30/30\u001b[0m \u001b[32m━━━━━━━━━━━━━━━━━━━━\u001b[0m\u001b[37m\u001b[0m \u001b[1m0s\u001b[0m 4ms/step - accuracy: 0.9531 - loss: 0.2136 - val_accuracy: 0.9667 - val_loss: 0.1736\n",
      "Epoch 43/100\n",
      "\u001b[1m30/30\u001b[0m \u001b[32m━━━━━━━━━━━━━━━━━━━━\u001b[0m\u001b[37m\u001b[0m \u001b[1m0s\u001b[0m 2ms/step - accuracy: 0.9493 - loss: 0.1962 - val_accuracy: 0.9583 - val_loss: 0.1755\n",
      "Epoch 44/100\n",
      "\u001b[1m30/30\u001b[0m \u001b[32m━━━━━━━━━━━━━━━━━━━━\u001b[0m\u001b[37m\u001b[0m \u001b[1m0s\u001b[0m 3ms/step - accuracy: 0.9484 - loss: 0.1950 - val_accuracy: 0.9583 - val_loss: 0.1781\n",
      "Epoch 45/100\n",
      "\u001b[1m30/30\u001b[0m \u001b[32m━━━━━━━━━━━━━━━━━━━━\u001b[0m\u001b[37m\u001b[0m \u001b[1m0s\u001b[0m 2ms/step - accuracy: 0.9559 - loss: 0.2091 - val_accuracy: 0.9583 - val_loss: 0.1766\n",
      "Epoch 46/100\n",
      "\u001b[1m30/30\u001b[0m \u001b[32m━━━━━━━━━━━━━━━━━━━━\u001b[0m\u001b[37m\u001b[0m \u001b[1m0s\u001b[0m 2ms/step - accuracy: 0.9567 - loss: 0.1715 - val_accuracy: 0.9625 - val_loss: 0.1743\n",
      "Epoch 47/100\n",
      "\u001b[1m30/30\u001b[0m \u001b[32m━━━━━━━━━━━━━━━━━━━━\u001b[0m\u001b[37m\u001b[0m \u001b[1m0s\u001b[0m 3ms/step - accuracy: 0.9647 - loss: 0.1787 - val_accuracy: 0.9458 - val_loss: 0.1774\n",
      "\u001b[1m10/10\u001b[0m \u001b[32m━━━━━━━━━━━━━━━━━━━━\u001b[0m\u001b[37m\u001b[0m \u001b[1m0s\u001b[0m 2ms/step - accuracy: 0.9496 - loss: 0.2496 \n",
      "Neural Network Accuracy: 0.9566666483879089\n"
     ]
    }
   ],
   "source": [
    "\n",
    "\n",
    "# Create a Sequential model\n",
    "nn_model = Sequential()\n",
    "\n",
    "# Add input layer and hidden layers with dropout and batch normalization\n",
    "nn_model.add(Dense(64, input_dim=X_train.shape[1], activation='relu', kernel_regularizer=l2(0.001)))\n",
    "nn_model.add(BatchNormalization())\n",
    "nn_model.add(Dropout(0.5))\n",
    "nn_model.add(Dense(32, activation='relu', kernel_regularizer=l2(0.001)))\n",
    "nn_model.add(BatchNormalization())\n",
    "nn_model.add(Dropout(0.5))\n",
    "\n",
    "# Add output layer\n",
    "nn_model.add(Dense(1, activation='sigmoid'))\n",
    "\n",
    "# Compile the model\n",
    "nn_model.compile(loss='binary_crossentropy', optimizer='adam', metrics=['accuracy'])\n",
    "\n",
    "# Implement early stopping\n",
    "early_stopping = EarlyStopping(monitor='val_loss', patience=5, restore_best_weights=True)\n",
    "\n",
    "# Train the model\n",
    "nn_model.fit(X_train, y_train, epochs=100, batch_size=32, validation_split=0.2, callbacks=[early_stopping])\n",
    "\n",
    "# Evaluate the model on test set\n",
    "accuracy_nn = nn_model.evaluate(X_test, y_test)[1]\n",
    "print(\"Neural Network Accuracy:\", accuracy_nn)\n",
    "\n",
    "# Save the trained neural network model\n",
    "nn_model.save('models/neural_network_model.keras')\n"
   ]
  },
  {
   "cell_type": "code",
   "execution_count": 95,
   "metadata": {},
   "outputs": [
    {
     "name": "stdout",
     "output_type": "stream",
     "text": [
      "47/47 [==============================] - 0s 857us/step\n",
      "New Data Neural Network Accuracy: 0.742\n"
     ]
    }
   ],
   "source": [
    "y_pred_nn = nn_model.predict(X_test_ruido)\n",
    "y_pred_nn_binary = (y_pred_nn > 0.5).astype(int)  # Convert probabilities to binary predictions\n",
    "\n",
    "# Calculate accuracy for the new data\n",
    "accuracy_nn_new = accuracy_score(y_test_ruido, y_pred_nn_binary)\n",
    "print(\"New Data Neural Network Accuracy:\", accuracy_nn_new)"
   ]
  },
  {
   "cell_type": "code",
   "execution_count": 96,
   "metadata": {},
   "outputs": [
    {
     "name": "stdout",
     "output_type": "stream",
     "text": [
      "47/47 [==============================] - 0s 2ms/step\n",
      "New Data Neural Network Accuracy: 0.9\n"
     ]
    }
   ],
   "source": [
    "y_pred_nn = nn_model.predict(X_test_ruido_65)\n",
    "y_pred_nn_binary = (y_pred_nn > 0.5).astype(int)  # Convert probabilities to binary predictions\n",
    "\n",
    "# Calculate accuracy for the new data\n",
    "accuracy_nn_new = accuracy_score(y_test_ruido_65, y_pred_nn_binary)\n",
    "print(\"New Data Neural Network Accuracy:\", accuracy_nn_new)"
   ]
  },
  {
   "cell_type": "code",
   "execution_count": 97,
   "metadata": {},
   "outputs": [
    {
     "name": "stdout",
     "output_type": "stream",
     "text": [
      "47/47 [==============================] - 0s 756us/step\n",
      "New Data Neural Network Accuracy: 0.554\n"
     ]
    }
   ],
   "source": [
    "y_pred_nn = nn_model.predict(X_test_ruido_15)\n",
    "y_pred_nn_binary = (y_pred_nn > 0.5).astype(int)  # Convert probabilities to binary predictions\n",
    "\n",
    "# Calculate accuracy for the new data\n",
    "accuracy_nn_new = accuracy_score(y_test_ruido_15, y_pred_nn_binary)\n",
    "print(\"New Data Neural Network Accuracy:\", accuracy_nn_new)"
   ]
  },
  {
   "cell_type": "code",
   "execution_count": 98,
   "metadata": {},
   "outputs": [
    {
     "name": "stdout",
     "output_type": "stream",
     "text": [
      "47/47 [==============================] - 0s 757us/step\n",
      "New Data Neural Network Accuracy: 0.8313333333333334\n"
     ]
    }
   ],
   "source": [
    "y_pred_nn = nn_model.predict(X_test_ruido_5)\n",
    "y_pred_nn_binary = (y_pred_nn > 0.5).astype(int)  # Convert probabilities to binary predictions\n",
    "\n",
    "# Calculate accuracy for the new data\n",
    "accuracy_nn_new = accuracy_score(y_test_ruido_5, y_pred_nn_binary)\n",
    "print(\"New Data Neural Network Accuracy:\", accuracy_nn_new)"
   ]
  },
  {
   "cell_type": "code",
   "execution_count": 99,
   "metadata": {},
   "outputs": [
    {
     "name": "stdout",
     "output_type": "stream",
     "text": [
      "47/47 [==============================] - 0s 678us/step\n",
      "New Data Neural Network Accuracy: 0.8493333333333334\n"
     ]
    }
   ],
   "source": [
    "y_pred_nn = nn_model.predict(X_test_ruido_3)\n",
    "y_pred_nn_binary = (y_pred_nn > 0.5).astype(int)  # Convert probabilities to binary predictions\n",
    "\n",
    "# Calculate accuracy for the new data\n",
    "accuracy_nn_new = accuracy_score(y_test_ruido_3, y_pred_nn_binary)\n",
    "print(\"New Data Neural Network Accuracy:\", accuracy_nn_new)"
   ]
  },
  {
   "cell_type": "code",
   "execution_count": 100,
   "metadata": {},
   "outputs": [
    {
     "name": "stdout",
     "output_type": "stream",
     "text": [
      "47/47 [==============================] - 0s 742us/step\n",
      "New Data Neural Network Accuracy: 0.49866666666666665\n"
     ]
    }
   ],
   "source": [
    "y_pred_nn = nn_model.predict(X_test_ruido_065)\n",
    "y_pred_nn_binary = (y_pred_nn > 0.5).astype(int)  # Convert probabilities to binary predictions\n",
    "\n",
    "# Calculate accuracy for the new data\n",
    "accuracy_nn_new = accuracy_score(y_test_ruido_065, y_pred_nn_binary)\n",
    "print(\"New Data Neural Network Accuracy:\", accuracy_nn_new)"
   ]
  },
  {
   "cell_type": "markdown",
   "metadata": {},
   "source": [
    "### CNN"
   ]
  },
  {
   "cell_type": "code",
   "execution_count": 13,
   "metadata": {},
   "outputs": [
    {
     "name": "stdout",
     "output_type": "stream",
     "text": [
      "Epoch 1/20\n"
     ]
    },
    {
     "name": "stderr",
     "output_type": "stream",
     "text": [
      "d:\\anaconda3_5\\envs\\gcwtda\\lib\\site-packages\\keras\\src\\layers\\convolutional\\base_conv.py:107: UserWarning: Do not pass an `input_shape`/`input_dim` argument to a layer. When using Sequential models, prefer using an `Input(shape)` object as the first layer in the model instead.\n",
      "  super().__init__(activity_regularizer=activity_regularizer, **kwargs)\n"
     ]
    },
    {
     "name": "stdout",
     "output_type": "stream",
     "text": [
      "\u001b[1m38/38\u001b[0m \u001b[32m━━━━━━━━━━━━━━━━━━━━\u001b[0m\u001b[37m\u001b[0m \u001b[1m2s\u001b[0m 8ms/step - accuracy: 0.5305 - loss: 0.6842 - val_accuracy: 0.6133 - val_loss: 0.6584\n",
      "Epoch 2/20\n",
      "\u001b[1m38/38\u001b[0m \u001b[32m━━━━━━━━━━━━━━━━━━━━\u001b[0m\u001b[37m\u001b[0m \u001b[1m0s\u001b[0m 4ms/step - accuracy: 0.6741 - loss: 0.6121 - val_accuracy: 0.6467 - val_loss: 0.6241\n",
      "Epoch 3/20\n",
      "\u001b[1m38/38\u001b[0m \u001b[32m━━━━━━━━━━━━━━━━━━━━\u001b[0m\u001b[37m\u001b[0m \u001b[1m0s\u001b[0m 3ms/step - accuracy: 0.7267 - loss: 0.5402 - val_accuracy: 0.6733 - val_loss: 0.5899\n",
      "Epoch 4/20\n",
      "\u001b[1m38/38\u001b[0m \u001b[32m━━━━━━━━━━━━━━━━━━━━\u001b[0m\u001b[37m\u001b[0m \u001b[1m0s\u001b[0m 4ms/step - accuracy: 0.7955 - loss: 0.4781 - val_accuracy: 0.6633 - val_loss: 0.5942\n",
      "Epoch 5/20\n",
      "\u001b[1m38/38\u001b[0m \u001b[32m━━━━━━━━━━━━━━━━━━━━\u001b[0m\u001b[37m\u001b[0m \u001b[1m0s\u001b[0m 3ms/step - accuracy: 0.8150 - loss: 0.4397 - val_accuracy: 0.7167 - val_loss: 0.5394\n",
      "Epoch 6/20\n",
      "\u001b[1m38/38\u001b[0m \u001b[32m━━━━━━━━━━━━━━━━━━━━\u001b[0m\u001b[37m\u001b[0m \u001b[1m0s\u001b[0m 3ms/step - accuracy: 0.8546 - loss: 0.3719 - val_accuracy: 0.7300 - val_loss: 0.5466\n",
      "Epoch 7/20\n",
      "\u001b[1m38/38\u001b[0m \u001b[32m━━━━━━━━━━━━━━━━━━━━\u001b[0m\u001b[37m\u001b[0m \u001b[1m0s\u001b[0m 3ms/step - accuracy: 0.8444 - loss: 0.3835 - val_accuracy: 0.7500 - val_loss: 0.5092\n",
      "Epoch 8/20\n",
      "\u001b[1m38/38\u001b[0m \u001b[32m━━━━━━━━━━━━━━━━━━━━\u001b[0m\u001b[37m\u001b[0m \u001b[1m0s\u001b[0m 3ms/step - accuracy: 0.8562 - loss: 0.3394 - val_accuracy: 0.7200 - val_loss: 0.5303\n",
      "Epoch 9/20\n",
      "\u001b[1m38/38\u001b[0m \u001b[32m━━━━━━━━━━━━━━━━━━━━\u001b[0m\u001b[37m\u001b[0m \u001b[1m0s\u001b[0m 4ms/step - accuracy: 0.8592 - loss: 0.3325 - val_accuracy: 0.7700 - val_loss: 0.5225\n",
      "Epoch 10/20\n",
      "\u001b[1m38/38\u001b[0m \u001b[32m━━━━━━━━━━━━━━━━━━━━\u001b[0m\u001b[37m\u001b[0m \u001b[1m0s\u001b[0m 3ms/step - accuracy: 0.8667 - loss: 0.3164 - val_accuracy: 0.7533 - val_loss: 0.4813\n",
      "Epoch 11/20\n",
      "\u001b[1m38/38\u001b[0m \u001b[32m━━━━━━━━━━━━━━━━━━━━\u001b[0m\u001b[37m\u001b[0m \u001b[1m0s\u001b[0m 3ms/step - accuracy: 0.8916 - loss: 0.2712 - val_accuracy: 0.7367 - val_loss: 0.5082\n",
      "Epoch 12/20\n",
      "\u001b[1m38/38\u001b[0m \u001b[32m━━━━━━━━━━━━━━━━━━━━\u001b[0m\u001b[37m\u001b[0m \u001b[1m0s\u001b[0m 4ms/step - accuracy: 0.8914 - loss: 0.2596 - val_accuracy: 0.7367 - val_loss: 0.4991\n",
      "Epoch 13/20\n",
      "\u001b[1m38/38\u001b[0m \u001b[32m━━━━━━━━━━━━━━━━━━━━\u001b[0m\u001b[37m\u001b[0m \u001b[1m0s\u001b[0m 5ms/step - accuracy: 0.9022 - loss: 0.2410 - val_accuracy: 0.7500 - val_loss: 0.5155\n",
      "Epoch 14/20\n",
      "\u001b[1m38/38\u001b[0m \u001b[32m━━━━━━━━━━━━━━━━━━━━\u001b[0m\u001b[37m\u001b[0m \u001b[1m0s\u001b[0m 5ms/step - accuracy: 0.9028 - loss: 0.2481 - val_accuracy: 0.7567 - val_loss: 0.4856\n",
      "Epoch 15/20\n",
      "\u001b[1m38/38\u001b[0m \u001b[32m━━━━━━━━━━━━━━━━━━━━\u001b[0m\u001b[37m\u001b[0m \u001b[1m0s\u001b[0m 5ms/step - accuracy: 0.9361 - loss: 0.1992 - val_accuracy: 0.7700 - val_loss: 0.4904\n",
      "Epoch 16/20\n",
      "\u001b[1m38/38\u001b[0m \u001b[32m━━━━━━━━━━━━━━━━━━━━\u001b[0m\u001b[37m\u001b[0m \u001b[1m0s\u001b[0m 4ms/step - accuracy: 0.9341 - loss: 0.1933 - val_accuracy: 0.7700 - val_loss: 0.4681\n",
      "Epoch 17/20\n",
      "\u001b[1m38/38\u001b[0m \u001b[32m━━━━━━━━━━━━━━━━━━━━\u001b[0m\u001b[37m\u001b[0m \u001b[1m0s\u001b[0m 5ms/step - accuracy: 0.9218 - loss: 0.2036 - val_accuracy: 0.7767 - val_loss: 0.5800\n",
      "Epoch 18/20\n",
      "\u001b[1m38/38\u001b[0m \u001b[32m━━━━━━━━━━━━━━━━━━━━\u001b[0m\u001b[37m\u001b[0m \u001b[1m0s\u001b[0m 4ms/step - accuracy: 0.9191 - loss: 0.2049 - val_accuracy: 0.7633 - val_loss: 0.4813\n",
      "Epoch 19/20\n",
      "\u001b[1m38/38\u001b[0m \u001b[32m━━━━━━━━━━━━━━━━━━━━\u001b[0m\u001b[37m\u001b[0m \u001b[1m0s\u001b[0m 8ms/step - accuracy: 0.9517 - loss: 0.1670 - val_accuracy: 0.7833 - val_loss: 0.5169\n",
      "Epoch 20/20\n",
      "\u001b[1m38/38\u001b[0m \u001b[32m━━━━━━━━━━━━━━━━━━━━\u001b[0m\u001b[37m\u001b[0m \u001b[1m0s\u001b[0m 4ms/step - accuracy: 0.9430 - loss: 0.1657 - val_accuracy: 0.7767 - val_loss: 0.4885\n",
      "\u001b[1m10/10\u001b[0m \u001b[32m━━━━━━━━━━━━━━━━━━━━\u001b[0m\u001b[37m\u001b[0m \u001b[1m0s\u001b[0m 2ms/step - accuracy: 0.7561 - loss: 0.5054 \n",
      "Test Accuracy: 0.7766666412353516\n"
     ]
    }
   ],
   "source": [
    "\n",
    "\n",
    "# Splitting the data into training and testing sets\n",
    "X_train, X_test, y_train, y_test = train_test_split(X, y, test_size=0.2, random_state=42)\n",
    "\n",
    "# Standardize features\n",
    "scaler = StandardScaler()\n",
    "X_train = scaler.fit_transform(X_train)\n",
    "X_test = scaler.transform(X_test)\n",
    "\n",
    "# Reshape data for CNN input (assuming 1D CNN)\n",
    "X_train = X_train.reshape(X_train.shape[0], X_train.shape[1], 1)\n",
    "X_test = X_test.reshape(X_test.shape[0], X_test.shape[1], 1)\n",
    "\n",
    "# Define the CNN model\n",
    "model = Sequential()\n",
    "\n",
    "# Convolutional layer\n",
    "model.add(Conv1D(filters=32, kernel_size=3, activation='relu', input_shape=(X_train.shape[1], 1)))\n",
    "\n",
    "# Pooling layer\n",
    "model.add(MaxPooling1D(pool_size=2))\n",
    "\n",
    "# Flatten layer\n",
    "model.add(Flatten())\n",
    "\n",
    "# Fully connected layer\n",
    "model.add(Dense(64, activation='relu'))\n",
    "\n",
    "# Output layer\n",
    "model.add(Dense(1, activation='sigmoid'))\n",
    "\n",
    "# Compile the model\n",
    "model.compile(optimizer='adam', loss='binary_crossentropy', metrics=['accuracy'])\n",
    "\n",
    "# Train the model\n",
    "model.fit(X_train, y_train, epochs=20, batch_size=32, validation_data=(X_test, y_test))\n",
    "\n",
    "# Evaluate the model\n",
    "loss, accuracy = model.evaluate(X_test, y_test)\n",
    "print(f'Test Accuracy: {accuracy}')\n",
    "# Save the trained model\n",
    "model.save('models/cnn_model.keras')\n"
   ]
  },
  {
   "cell_type": "code",
   "execution_count": 102,
   "metadata": {},
   "outputs": [
    {
     "name": "stdout",
     "output_type": "stream",
     "text": [
      "47/47 [==============================] - 0s 1ms/step\n",
      "Accuracy on X_test_ruido: 0.7546666666666667\n"
     ]
    }
   ],
   "source": [
    "X_test_ruido = scaler.transform(X_test_ruido)\n",
    "\n",
    "# Reshape X_test_ruido for CNN input\n",
    "X_test_ruido = X_test_ruido.reshape(X_test_ruido.shape[0], X_test_ruido.shape[1], 1)\n",
    "\n",
    "# Predict labels for X_test_ruido\n",
    "y_pred_ruido = model.predict(X_test_ruido)\n",
    "\n",
    "# Convert predicted probabilities to binary predictions (0 or 1)\n",
    "y_pred_binary = (y_pred_ruido > 0.5).astype(int).flatten()\n",
    "\n",
    "# Ensure y_test_ruido is a 1-dimensional array\n",
    "y_test_ruido = np.array(y_test_ruido).flatten()\n",
    "\n",
    "# Evaluate accuracy\n",
    "accuracy_ruido = np.mean(y_pred_binary == y_test_ruido)\n",
    "print(f'Accuracy on X_test_ruido: {accuracy_ruido}')"
   ]
  },
  {
   "cell_type": "code",
   "execution_count": 103,
   "metadata": {},
   "outputs": [
    {
     "name": "stdout",
     "output_type": "stream",
     "text": [
      "47/47 [==============================] - 0s 2ms/step\n",
      "Accuracy on X_test_ruido: 0.4093333333333333\n"
     ]
    }
   ],
   "source": [
    "X_test_ruido = scaler.transform(X_test_ruido_65)\n",
    "\n",
    "# Reshape X_test_ruido for CNN input\n",
    "X_test_ruido = X_test_ruido.reshape(X_test_ruido.shape[0], X_test_ruido.shape[1], 1)\n",
    "\n",
    "# Predict labels for X_test_ruido\n",
    "y_pred_ruido = model.predict(X_test_ruido)\n",
    "\n",
    "# Convert predicted probabilities to binary predictions (0 or 1)\n",
    "y_pred_binary = (y_pred_ruido > 0.5).astype(int).flatten()\n",
    "\n",
    "# Ensure y_test_ruido is a 1-dimensional array\n",
    "y_test_ruido = np.array(y_test_ruido_65).flatten()\n",
    "\n",
    "# Evaluate accuracy\n",
    "accuracy_ruido = np.mean(y_pred_binary == y_test_ruido)\n",
    "print(f'Accuracy on X_test_ruido: {accuracy_ruido}')"
   ]
  },
  {
   "cell_type": "code",
   "execution_count": 104,
   "metadata": {},
   "outputs": [
    {
     "name": "stdout",
     "output_type": "stream",
     "text": [
      "47/47 [==============================] - 0s 2ms/step\n",
      "Accuracy on X_test_ruido: 0.498\n"
     ]
    }
   ],
   "source": [
    "X_test_ruido = scaler.transform(X_test_ruido_15)\n",
    "\n",
    "# Reshape X_test_ruido for CNN input\n",
    "X_test_ruido = X_test_ruido.reshape(X_test_ruido.shape[0], X_test_ruido.shape[1], 1)\n",
    "\n",
    "# Predict labels for X_test_ruido\n",
    "y_pred_ruido = model.predict(X_test_ruido)\n",
    "\n",
    "# Convert predicted probabilities to binary predictions (0 or 1)\n",
    "y_pred_binary = (y_pred_ruido > 0.5).astype(int).flatten()\n",
    "\n",
    "# Ensure y_test_ruido is a 1-dimensional array\n",
    "y_test_ruido = np.array(y_test_ruido_65).flatten()\n",
    "\n",
    "# Evaluate accuracy\n",
    "accuracy_ruido = np.mean(y_pred_binary == y_test_ruido)\n",
    "print(f'Accuracy on X_test_ruido: {accuracy_ruido}')"
   ]
  },
  {
   "cell_type": "code",
   "execution_count": null,
   "metadata": {},
   "outputs": [],
   "source": []
  }
 ],
 "metadata": {
  "kernelspec": {
   "display_name": "gcwtda",
   "language": "python",
   "name": "python3"
  },
  "language_info": {
   "codemirror_mode": {
    "name": "ipython",
    "version": 3
   },
   "file_extension": ".py",
   "mimetype": "text/x-python",
   "name": "python",
   "nbconvert_exporter": "python",
   "pygments_lexer": "ipython3",
   "version": "3.10.18"
  }
 },
 "nbformat": 4,
 "nbformat_minor": 2
}
